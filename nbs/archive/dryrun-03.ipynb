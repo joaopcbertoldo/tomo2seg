{
 "cells": [
  {
   "cell_type": "markdown",
   "metadata": {
    "id": "EnVqPFS9BNCg"
   },
   "source": [
    "\n",
    "# Setup\n"
   ]
  },
  {
   "cell_type": "markdown",
   "metadata": {
    "id": "8JEHjvuBBIab"
   },
   "source": [
    "## Imports\n"
   ]
  },
  {
   "cell_type": "code",
   "execution_count": 3,
   "metadata": {
    "executionInfo": {
     "elapsed": 1996,
     "status": "ok",
     "timestamp": 1602255916976,
     "user": {
      "displayName": "João Paulo Casagrande Bertoldo",
      "photoUrl": "https://lh3.googleusercontent.com/a-/AOh14GioL6iQ5PNE9hm2XaOtZd36rClxQBdpy33-9-QsTUs=s64",
      "userId": "13620585220725745309"
     },
     "user_tz": -120
    },
    "id": "SHg9oSCt1lGf"
   },
   "outputs": [
    {
     "name": "stdout",
     "output_type": "stream",
     "text": [
      "tensorflow version: 2.2.0\n"
     ]
    }
   ],
   "source": [
    "import functools\n",
    "import pathlib\n",
    "from pprint import pprint\n",
    "import sys\n",
    "import yaml\n",
    "from yaml import YAMLObject\n",
    "from typing import *\n",
    "\n",
    "import humanize\n",
    "from matplotlib import pyplot as plt, cm\n",
    "import numpy as np\n",
    "import pandas as pd\n",
    "from pymicro.file import file_utils\n",
    "\n",
    "import tensorflow as tf\n",
    "print(f\"tensorflow version: {tf.__version__}\")\n",
    "\n",
    "from tensorflow import keras\n",
    "from tensorflow.keras import utils\n",
    "from tensorflow.keras import optimizers\n",
    "from tensorflow.keras import callbacks\n",
    "from tensorflow.keras import losses"
   ]
  },
  {
   "cell_type": "code",
   "execution_count": 4,
   "metadata": {
    "colab": {
     "base_uri": "https://localhost:8080/",
     "height": 33
    },
    "executionInfo": {
     "elapsed": 1970,
     "status": "ok",
     "timestamp": 1602255916978,
     "user": {
      "displayName": "João Paulo Casagrande Bertoldo",
      "photoUrl": "https://lh3.googleusercontent.com/a-/AOh14GioL6iQ5PNE9hm2XaOtZd36rClxQBdpy33-9-QsTUs=s64",
      "userId": "13620585220725745309"
     },
     "user_tz": -120
    },
    "id": "KTMgQv07JkgY",
    "outputId": "69cd78fc-f0f1-46f6-f1d8-63b99d55eaae"
   },
   "outputs": [],
   "source": [
    "%load_ext autoreload"
   ]
  },
  {
   "cell_type": "code",
   "execution_count": 5,
   "metadata": {
    "executionInfo": {
     "elapsed": 1967,
     "status": "ok",
     "timestamp": 1602255916979,
     "user": {
      "displayName": "João Paulo Casagrande Bertoldo",
      "photoUrl": "https://lh3.googleusercontent.com/a-/AOh14GioL6iQ5PNE9hm2XaOtZd36rClxQBdpy33-9-QsTUs=s64",
      "userId": "13620585220725745309"
     },
     "user_tz": -120
    },
    "id": "m7qeyEdDT3Hl"
   },
   "outputs": [],
   "source": [
    "%autoreload 2\n",
    "from tomo2seg import modular_unet\n",
    "from tomo2seg.volume_img_segm import VolumeImgSegmSequence\n",
    "from tomo2seg.logger import logger\n",
    "from tomo2seg import data, viz\n",
    "from tomo2seg.data import VolumePaths, ModelPaths\n",
    "from tomo2seg.metadata import Metadata\n",
    "\n",
    "from cnn_segm.tools.cnn_callbacks import ReduceLROnPlateauBacktrack"
   ]
  },
  {
   "cell_type": "markdown",
   "metadata": {
    "id": "gphQsJ3rQTap"
   },
   "source": [
    "## GPUs\n"
   ]
  },
  {
   "cell_type": "code",
   "execution_count": 6,
   "metadata": {
    "collapsed": false,
    "jupyter": {
     "outputs_hidden": false
    },
    "pycharm": {
     "name": "#%%\n"
    }
   },
   "outputs": [
    {
     "name": "stdout",
     "output_type": "stream",
     "text": [
      "Num GPUs Available:  2\n"
     ]
    }
   ],
   "source": [
    "# (on R790-TOMO) 2\n",
    "print(\"Num GPUs Available: \", len(tf.config.list_physical_devices('GPU')))"
   ]
  },
  {
   "cell_type": "code",
   "execution_count": 7,
   "metadata": {},
   "outputs": [
    {
     "data": {
      "text/plain": [
       "[PhysicalDevice(name='/physical_device:CPU:0', device_type='CPU'),\n",
       " PhysicalDevice(name='/physical_device:XLA_CPU:0', device_type='XLA_CPU'),\n",
       " PhysicalDevice(name='/physical_device:GPU:0', device_type='GPU'),\n",
       " PhysicalDevice(name='/physical_device:GPU:1', device_type='GPU'),\n",
       " PhysicalDevice(name='/physical_device:XLA_GPU:0', device_type='XLA_GPU'),\n",
       " PhysicalDevice(name='/physical_device:XLA_GPU:1', device_type='XLA_GPU')]"
      ]
     },
     "execution_count": 7,
     "metadata": {},
     "output_type": "execute_result"
    }
   ],
   "source": [
    "# (on R790-TOMO) CPU:0, XLA_CPU:0, GPU:0, GPU:1, XLA_GPU:0, XLA_GPU:1\n",
    "tf.config.list_physical_devices()"
   ]
  },
  {
   "cell_type": "code",
   "execution_count": 8,
   "metadata": {},
   "outputs": [
    {
     "data": {
      "text/plain": [
       "[LogicalDevice(name='/device:CPU:0', device_type='CPU'),\n",
       " LogicalDevice(name='/device:XLA_CPU:0', device_type='XLA_CPU'),\n",
       " LogicalDevice(name='/device:GPU:0', device_type='GPU'),\n",
       " LogicalDevice(name='/device:GPU:1', device_type='GPU'),\n",
       " LogicalDevice(name='/device:XLA_GPU:0', device_type='XLA_GPU'),\n",
       " LogicalDevice(name='/device:XLA_GPU:1', device_type='XLA_GPU')]"
      ]
     },
     "execution_count": 8,
     "metadata": {},
     "output_type": "execute_result"
    }
   ],
   "source": [
    "# (on R790-TOMO) CPU:0, XLA_CPU:0, GPU:0, GPU:1, XLA_GPU:0, XLA_GPU:1\n",
    "tf.config.list_logical_devices()"
   ]
  },
  {
   "cell_type": "code",
   "execution_count": 9,
   "metadata": {
    "collapsed": false,
    "jupyter": {
     "outputs_hidden": false
    },
    "pycharm": {
     "name": "#%%\n"
    }
   },
   "outputs": [],
   "source": [
    "# set xla auto-clustering optimization\n",
    "# see: https://www.tensorflow.org/xla#auto-clustering\n",
    "tf.config.optimizer.set_jit(False)\n",
    "# adendum: this seems to actually break the training"
   ]
  },
  {
   "cell_type": "code",
   "execution_count": 10,
   "metadata": {
    "collapsed": false,
    "jupyter": {
     "outputs_hidden": false
    },
    "pycharm": {
     "name": "#%%\n"
    }
   },
   "outputs": [
    {
     "name": "stdout",
     "output_type": "stream",
     "text": [
      "INFO:tensorflow:Using MirroredStrategy with devices ('/job:localhost/replica:0/task:0/device:GPU:0', '/job:localhost/replica:0/task:0/device:GPU:1')\n"
     ]
    }
   ],
   "source": [
    "# get a distribution strategy to use both gpus\n",
    "# see https://www.tensorflow.org/guide/distributed_training\n",
    "mirrored_strategy = tf.distribute.MirroredStrategy()  "
   ]
  },
  {
   "cell_type": "markdown",
   "metadata": {
    "id": "j8e5FhmUaKND"
   },
   "source": [
    "# Data"
   ]
  },
  {
   "cell_type": "markdown",
   "metadata": {
    "id": "29IickclRPeb"
   },
   "source": [
    "## File paths\n"
   ]
  },
  {
   "cell_type": "code",
   "execution_count": 11,
   "metadata": {
    "executionInfo": {
     "elapsed": 2916,
     "status": "ok",
     "timestamp": 1602255917946,
     "user": {
      "displayName": "João Paulo Casagrande Bertoldo",
      "photoUrl": "https://lh3.googleusercontent.com/a-/AOh14GioL6iQ5PNE9hm2XaOtZd36rClxQBdpy33-9-QsTUs=s64",
      "userId": "13620585220725745309"
     },
     "user_tz": -120
    },
    "id": "4CfP7usu2VKr"
   },
   "outputs": [
    {
     "name": "stdout",
     "output_type": "stream",
     "text": [
      "[2020-10-16::10:56:06.520] tomo2seg :: INFO :: {<ipython-input-11-1b32abc8a087>:<module>:004}\n",
      "Working with volume `PA66GF30_trans3_x__0_pag`: VolumePaths(volume_name='PA66GF30_trans3_x__0_pag')\n"
     ]
    }
   ],
   "source": [
    "volume_name = data.VOLUME_PRECIPITATES_DRYRUN\n",
    "volume_paths = data.volume_precipitates_dryrun\n",
    "\n",
    "logger.info(\"Working with volume `%s`: %s\", volume_name, volume_paths)"
   ]
  },
  {
   "cell_type": "code",
   "execution_count": 12,
   "metadata": {
    "executionInfo": {
     "elapsed": 2916,
     "status": "ok",
     "timestamp": 1602255917946,
     "user": {
      "displayName": "João Paulo Casagrande Bertoldo",
      "photoUrl": "https://lh3.googleusercontent.com/a-/AOh14GioL6iQ5PNE9hm2XaOtZd36rClxQBdpy33-9-QsTUs=s64",
      "userId": "13620585220725745309"
     },
     "user_tz": -120
    },
    "id": "4CfP7usu2VKr"
   },
   "outputs": [],
   "source": [
    "class labels:\n",
    "  matrix = 0\n",
    "  fiber = 1\n",
    "  hole = 2\n",
    "\n",
    "labels_list = [0, 1, 2]\n",
    "\n",
    "dimensions = (500, 500, 500)\n",
    "dtype = \"uint8\" \n",
    "\n",
    "# prefill the function `HST_read`\n",
    "hst_read = functools.partial(\n",
    "    file_utils.HST_read,\n",
    "    autoparse_filename=False,  # the file names are not properly formatted\n",
    "    data_type=dtype,\n",
    "    dims=dimensions,\n",
    "    verbose=True,\n",
    ")"
   ]
  },
  {
   "cell_type": "markdown",
   "metadata": {
    "id": "kGdlLEjlbHFB"
   },
   "source": [
    "## Load volumes\n"
   ]
  },
  {
   "cell_type": "code",
   "execution_count": 13,
   "metadata": {
    "colab": {
     "base_uri": "https://localhost:8080/",
     "height": 0
    },
    "executionInfo": {
     "elapsed": 4026,
     "status": "ok",
     "timestamp": 1602255919068,
     "user": {
      "displayName": "João Paulo Casagrande Bertoldo",
      "photoUrl": "https://lh3.googleusercontent.com/a-/AOh14GioL6iQ5PNE9hm2XaOtZd36rClxQBdpy33-9-QsTUs=s64",
      "userId": "13620585220725745309"
     },
     "user_tz": -120
    },
    "id": "En0mRzKY36lo",
    "outputId": "186d90d3-5a60-4f42-8c6c-f689dfad52c8"
   },
   "outputs": [
    {
     "name": "stdout",
     "output_type": "stream",
     "text": [
      "data type is uint8\n",
      "volume size is 500 x 500 x 500\n",
      "reading volume... from byte 0\n",
      "data type is uint8\n",
      "volume size is 500 x 500 x 500\n",
      "reading volume... from byte 0\n",
      "data type is uint8\n",
      "volume size is 500 x 500 x 500\n",
      "reading volume... from byte 0\n",
      "data type is uint8\n",
      "volume size is 500 x 500 x 500\n",
      "reading volume... from byte 0\n"
     ]
    }
   ],
   "source": [
    "train_volume = hst_read(str(volume_paths.train_data_path))\n",
    "train_labels = hst_read(str(volume_paths.train_labels_path))\n",
    "\n",
    "val_volume = hst_read(str(volume_paths.val_data_path))\n",
    "val_labels = hst_read(str(volume_paths.val_labels_path))"
   ]
  },
  {
   "cell_type": "markdown",
   "metadata": {
    "id": "KnsQ7lX0bVRh"
   },
   "source": [
    "## Data Sequences"
   ]
  },
  {
   "cell_type": "code",
   "execution_count": 14,
   "metadata": {
    "executionInfo": {
     "elapsed": 8851,
     "status": "ok",
     "timestamp": 1602255923907,
     "user": {
      "displayName": "João Paulo Casagrande Bertoldo",
      "photoUrl": "https://lh3.googleusercontent.com/a-/AOh14GioL6iQ5PNE9hm2XaOtZd36rClxQBdpy33-9-QsTUs=s64",
      "userId": "13620585220725745309"
     },
     "user_tz": -120
    },
    "id": "EhQLk_drYXmj"
   },
   "outputs": [],
   "source": [
    "batch_size_per_replica = 16  \n",
    "batch_size = batch_size_per_replica * mirrored_strategy.num_replicas_in_sync\n",
    "crop_size = 224  # multiple of 16 (requirement of a 4-level u-net)\n",
    "n_geometric_augmentations = 3\n",
    "slice_axes = (0, 1, 2,)\n",
    "\n",
    "train_generator = VolumeImgSegmSequence(\n",
    "    source_volume=train_volume, \n",
    "    label_volume=train_labels,\n",
    "    labels=labels_list, \n",
    "    axes=slice_axes, \n",
    "    batch_size=batch_size,\n",
    "    shuffle=True,\n",
    "    normalization_const=255,\n",
    "    n_geometric_augmentations=n_geometric_augmentations,\n",
    "    random_state=42,\n",
    "    crop_size=crop_size,\n",
    ")\n",
    "\n",
    "val_generator = VolumeImgSegmSequence(\n",
    "    source_volume=val_volume, \n",
    "    label_volume=val_labels,\n",
    "    labels=labels_list, \n",
    "    axes=(2,), \n",
    "    batch_size=10,\n",
    "    shuffle=False,\n",
    "    normalization_const=255,\n",
    "    n_geometric_augmentations=0,\n",
    "    crop_size=crop_size,\n",
    ")"
   ]
  },
  {
   "cell_type": "markdown",
   "metadata": {
    "id": "nJtppItnKn5G"
   },
   "source": [
    "# Model"
   ]
  },
  {
   "cell_type": "code",
   "execution_count": 23,
   "metadata": {
    "executionInfo": {
     "elapsed": 590,
     "status": "ok",
     "timestamp": 1602255973613,
     "user": {
      "displayName": "João Paulo Casagrande Bertoldo",
      "photoUrl": "https://lh3.googleusercontent.com/a-/AOh14GioL6iQ5PNE9hm2XaOtZd36rClxQBdpy33-9-QsTUs=s64",
      "userId": "13620585220725745309"
     },
     "user_tz": -120
    },
    "id": "lnPHivbmBhpY"
   },
   "outputs": [
    {
     "name": "stdout",
     "output_type": "stream",
     "text": [
      "[2020-10-16::10:58:42.295] tomo2seg :: INFO :: {<ipython-input-23-91da4e6d8d6c>:<module>:003}\n",
      "Model paths object: ModelPaths(model_name='dryrun-03')\n"
     ]
    }
   ],
   "source": [
    "model_name = \"dryrun-03\"\n",
    "model_paths = ModelPaths(model_name)\n",
    "logger.info(\"Model paths object: %s\", model_paths)\n",
    "\n",
    "input_shape = (crop_size, crop_size, 1)\n",
    "nb_filters_0 = 12\n",
    "model_generator_function = modular_unet.u_net\n",
    "\n",
    "# lr = 4e-3\n",
    "# n_epochs = 30\n"
   ]
  },
  {
   "cell_type": "code",
   "execution_count": 29,
   "metadata": {
    "colab": {
     "base_uri": "https://localhost:8080/",
     "height": 151
    },
    "executionInfo": {
     "elapsed": 10730,
     "status": "ok",
     "timestamp": 1602255986804,
     "user": {
      "displayName": "João Paulo Casagrande Bertoldo",
      "photoUrl": "https://lh3.googleusercontent.com/a-/AOh14GioL6iQ5PNE9hm2XaOtZd36rClxQBdpy33-9-QsTUs=s64",
      "userId": "13620585220725745309"
     },
     "user_tz": -120
    },
    "id": "-0xU4XAueFL2",
    "outputId": "8c8a3b36-a01c-46bc-8daf-8b7dd9444ae7"
   },
   "outputs": [
    {
     "name": "stdout",
     "output_type": "stream",
     "text": [
      "[2020-10-16::11:01:16.009] tomo2seg :: WARNING :: {<ipython-input-29-7a2ec25b262d>:<module>:009}\n",
      "An autosaved model already exists, loading it instead of creating a new one!\n",
      "INFO:tensorflow:Reduce to /job:localhost/replica:0/task:0/device:CPU:0 then broadcast to ('/job:localhost/replica:0/task:0/device:CPU:0',).\n",
      "INFO:tensorflow:Reduce to /job:localhost/replica:0/task:0/device:CPU:0 then broadcast to ('/job:localhost/replica:0/task:0/device:CPU:0',).\n",
      "INFO:tensorflow:Reduce to /job:localhost/replica:0/task:0/device:CPU:0 then broadcast to ('/job:localhost/replica:0/task:0/device:CPU:0',).\n",
      "INFO:tensorflow:Reduce to /job:localhost/replica:0/task:0/device:CPU:0 then broadcast to ('/job:localhost/replica:0/task:0/device:CPU:0',).\n",
      "INFO:tensorflow:Reduce to /job:localhost/replica:0/task:0/device:CPU:0 then broadcast to ('/job:localhost/replica:0/task:0/device:CPU:0',).\n",
      "INFO:tensorflow:Reduce to /job:localhost/replica:0/task:0/device:CPU:0 then broadcast to ('/job:localhost/replica:0/task:0/device:CPU:0',).\n",
      "INFO:tensorflow:Reduce to /job:localhost/replica:0/task:0/device:CPU:0 then broadcast to ('/job:localhost/replica:0/task:0/device:CPU:0',).\n",
      "INFO:tensorflow:Reduce to /job:localhost/replica:0/task:0/device:CPU:0 then broadcast to ('/job:localhost/replica:0/task:0/device:CPU:0',).\n",
      "INFO:tensorflow:Reduce to /job:localhost/replica:0/task:0/device:CPU:0 then broadcast to ('/job:localhost/replica:0/task:0/device:CPU:0',).\n",
      "INFO:tensorflow:Reduce to /job:localhost/replica:0/task:0/device:CPU:0 then broadcast to ('/job:localhost/replica:0/task:0/device:CPU:0',).\n",
      "WARNING:tensorflow:From /home/users/jcasagrande/projects/tomo2seg/condaenv/lib/python3.8/site-packages/tensorflow/python/ops/resource_variable_ops.py:1813: calling BaseResourceVariable.__init__ (from tensorflow.python.ops.resource_variable_ops) with constraint is deprecated and will be removed in a future version.\n",
      "Instructions for updating:\n",
      "If using Keras pass *_constraint arguments to layers.\n",
      "INFO:tensorflow:Assets written to: /home/users/jcasagrande/projects/tomo2seg/models/dryrun-03/assets\n"
     ]
    }
   ],
   "source": [
    "with mirrored_strategy.scope():\n",
    "    if not pathlib.Path(str(model_paths.autosaved_model_path) + '.hdf5').exists():\n",
    "        assert not model_paths.model_path.exists(), f\"Please delete '{model_paths.model_path}' to redefine it.\"\n",
    "\n",
    "        model = model_generator_function(input_shape, nb_filters_0=nb_filters_0, output_channels=3, name=model_name)\n",
    "        model.save(filepath=model_paths.model_path, overwrite=False)\n",
    "\n",
    "    else:\n",
    "        logger.warning(\"An autosaved model already exists, loading it instead of creating a new one!\")\n",
    "        model = keras.models.load_model(str(model_paths.autosaved_model_path) + '.hdf5')\n",
    "\n",
    "\n",
    "#     optimizer = optimizers.Adam(lr=lr)\n",
    "    optimizer = optimizers.Adam()\n",
    "    loss_func = losses.categorical_crossentropy    \n",
    "    \n",
    "    model.compile(loss=loss_func, optimizer=optimizer)\n",
    "    model.save(model_paths.model_path)"
   ]
  },
  {
   "cell_type": "code",
   "execution_count": 17,
   "metadata": {
    "executionInfo": {
     "elapsed": 8175,
     "status": "ok",
     "timestamp": 1602255988215,
     "user": {
      "displayName": "João Paulo Casagrande Bertoldo",
      "photoUrl": "https://lh3.googleusercontent.com/a-/AOh14GioL6iQ5PNE9hm2XaOtZd36rClxQBdpy33-9-QsTUs=s64",
      "userId": "13620585220725745309"
     },
     "user_tz": -120
    },
    "id": "L2U_tsMojKCD"
   },
   "outputs": [],
   "source": [
    "# write the model summary in a file\n",
    "with model_paths.summary_path.open(\"w\") as f:\n",
    "    def print_to_txt(line):\n",
    "        f.writelines([line + \"\\n\"])\n",
    "    model.summary(print_fn=print_to_txt, line_length=140)\n",
    "\n",
    "# same for the architecture\n",
    "utils.plot_model(model, show_shapes=True, to_file=model_paths.architecture_plot_path);\n",
    "\n"
   ]
  },
  {
   "cell_type": "markdown",
   "metadata": {
    "id": "YRsccmAxOX7v"
   },
   "source": [
    "# Callbacks"
   ]
  },
  {
   "cell_type": "code",
   "execution_count": 20,
   "metadata": {
    "executionInfo": {
     "elapsed": 8834,
     "status": "aborted",
     "timestamp": 1602255923910,
     "user": {
      "displayName": "João Paulo Casagrande Bertoldo",
      "photoUrl": "https://lh3.googleusercontent.com/a-/AOh14GioL6iQ5PNE9hm2XaOtZd36rClxQBdpy33-9-QsTUs=s64",
      "userId": "13620585220725745309"
     },
     "user_tz": -120
    },
    "id": "zRp2b17np-48"
   },
   "outputs": [],
   "source": [
    "\n",
    "autosave_cb = callbacks.ModelCheckpoint(\n",
    "    str(model_paths.autosaved_model_path) + \".hdf5\", \n",
    "    monitor=\"val_loss\", \n",
    "    verbose=0, \n",
    "    save_best_only=True, \n",
    "    mode=\"auto\",\n",
    ")\n",
    "\n",
    "reduce_lr_cb = ReduceLROnPlateauBacktrack(\n",
    "    model,\n",
    "    str(model_paths.autosaved_model_path) + \".hdf5\", \n",
    "    monitor=\"val_loss\",\n",
    "    factor=0.5,\n",
    "    patience=5,\n",
    "    verbose=1,\n",
    "    mode=\"auto\",\n",
    "    min_delta=0,\n",
    "    min_lr=1e-5,\n",
    "),\n",
    "\n",
    "logger_cb = callbacks.CSVLogger(\n",
    "    str(model_paths.logger_path), separator=\",\", append=False\n",
    ")\n",
    "\n",
    "def get_logspace_lr_cb(min_lr, max_lr, n_epochs, epoch_zero=0):\n",
    "    schedule = np.logspace(min_lr, max_lr, n_epochs)\n",
    "    def schedule_function(epoch, lr):\n",
    "        assert epoch - epoch_zero < n_epochs, \"Schedule is over!\"\n",
    "        return schedule[epoch - epoch_zero]\n",
    "    return tf.keras.callbacks.LearningRateScheduler(schedule_function)\n",
    "\n",
    "lr_range_test_schedule_cb = get_logspace_lr_cb(-4.5, -1, 30)"
   ]
  },
  {
   "cell_type": "code",
   "execution_count": 20,
   "metadata": {
    "executionInfo": {
     "elapsed": 8829,
     "status": "aborted",
     "timestamp": 1602255923910,
     "user": {
      "displayName": "João Paulo Casagrande Bertoldo",
      "photoUrl": "https://lh3.googleusercontent.com/a-/AOh14GioL6iQ5PNE9hm2XaOtZd36rClxQBdpy33-9-QsTUs=s64",
      "userId": "13620585220725745309"
     },
     "user_tz": -120
    },
    "id": "85CAFhUCwWoQ"
   },
   "outputs": [],
   "source": [
    "# unique, counts = np.unique(train_labels, return_counts=True)\n",
    "# class_freqs = dict(zip(unique, counts))\n",
    "# total = sum(class_freqs.values())\n",
    "# class_freqs = {k: v / total for k, v in class_freqs.items()}\n",
    "# class_freqs\n",
    "# class_freqs_inv = {k: 1. / v for k, v in class_freqs.items()}\n",
    "# class_freqs_inv\n",
    "# import tensorflow as tf\n",
    "# from tensorflow.python.keras import backend as K\n",
    "# weights = [class_freqs_inv[i] for i in range(len(class_freqs_inv))]\n",
    "\n",
    "# def weighted_cross_entropy(y_true, y_pred):\n",
    "#   Kweights = K.constant(weights)\n",
    "#   if not K.is_keras_tensor(y_pred):\n",
    "#     y_pred = K.constant(y_pred)\n",
    "#   y_true = K.cast(y_true, y_pred.dtype)\n",
    "#   return K.categorical_crossentropy(y_true, y_pred) * K.sum(y_true * y_pred, axis=-1)"
   ]
  },
  {
   "cell_type": "markdown",
   "metadata": {
    "id": "7kYnLzlFdDeY"
   },
   "source": [
    "# Summary before training"
   ]
  },
  {
   "cell_type": "code",
   "execution_count": 21,
   "metadata": {
    "executionInfo": {
     "elapsed": 8819,
     "status": "aborted",
     "timestamp": 1602255923912,
     "user": {
      "displayName": "João Paulo Casagrande Bertoldo",
      "photoUrl": "https://lh3.googleusercontent.com/a-/AOh14GioL6iQ5PNE9hm2XaOtZd36rClxQBdpy33-9-QsTUs=s64",
      "userId": "13620585220725745309"
     },
     "user_tz": -120
    },
    "id": "tr6YIjw239on"
   },
   "outputs": [],
   "source": [
    "# stuff that i use after the training but i want it to appear in the \n",
    "# pre-training summary"
   ]
  },
  {
   "cell_type": "markdown",
   "metadata": {},
   "source": [
    "## Metadata"
   ]
  },
  {
   "cell_type": "raw",
   "metadata": {},
   "source": [
    "\n",
    "metadata = Metadata.build(\n",
    "    model, model_paths, \n",
    "    volume_paths, train_generator, val_generator,\n",
    "    model_generator_function, nb_filters_0, input_shape,\n",
    "    n_epochs\n",
    ")\n",
    "\n",
    "print(metadata.yaml_str)\n",
    "metadata.save_yaml_file(model_paths.metadata_yml_path)"
   ]
  },
  {
   "cell_type": "markdown",
   "metadata": {},
   "source": [
    "## Volume slices"
   ]
  },
  {
   "cell_type": "raw",
   "metadata": {},
   "source": [
    "fig, axs = viz.tight_subplots(2, 2, 10, 10)\n",
    "mask = (~(train_generator.label_volume == labels.fiber)).astype(int)\n",
    "viz.plot_orthogonal_slices(axs, train_generator.source_volume, mask)"
   ]
  },
  {
   "cell_type": "markdown",
   "metadata": {},
   "source": [
    "## Generator samples"
   ]
  },
  {
   "cell_type": "raw",
   "metadata": {},
   "source": [
    "fig, axs = viz.tight_subplots(2, 2, 10, 10)\n",
    "\n",
    "for ax in axs.ravel():\n",
    "    ax.get_xaxis().set_visible(False)\n",
    "    ax.get_yaxis().set_visible(False)\n",
    "    \n",
    "random_batches = np.random.RandomState(10).choice(\n",
    "    list(range(len(train_generator))), 4, replace=False\n",
    ")\n",
    "for batch_index, ax in zip(random_batches, axs.ravel()):\n",
    "    ax.imshow(train_generator[batch_index][0][0, :, :, 0], cmap=cm.gray)"
   ]
  },
  {
   "cell_type": "markdown",
   "metadata": {},
   "source": [
    "# Learning rate range test"
   ]
  },
  {
   "cell_type": "code",
   "execution_count": 22,
   "metadata": {},
   "outputs": [],
   "source": [
    "cb = [\n",
    "    autosave_cb,\n",
    "    logger_cb,\n",
    "    callbacks.TerminateOnNaN(),\n",
    "#     reduce_lr_cb,\n",
    "    lr_range_test_schedule_cb\n",
    "]\n",
    "\n",
    "train_generator.force_shorter_epoch = 100"
   ]
  },
  {
   "cell_type": "code",
   "execution_count": 23,
   "metadata": {},
   "outputs": [
    {
     "name": "stdout",
     "output_type": "stream",
     "text": [
      "Epoch 1/30\n",
      "INFO:tensorflow:batch_all_reduce: 135 all-reduces with algorithm = nccl, num_packs = 1\n",
      "INFO:tensorflow:batch_all_reduce: 135 all-reduces with algorithm = nccl, num_packs = 1\n",
      "100/100 [==============================] - 182s 2s/step - loss: 0.9573 - val_loss: 1.0988 - lr: 3.1623e-05\n",
      "Epoch 2/30\n",
      "100/100 [==============================] - 96s 960ms/step - loss: 0.5877 - val_loss: 1.0775 - lr: 4.1753e-05\n",
      "Epoch 3/30\n",
      "100/100 [==============================] - 97s 974ms/step - loss: 0.3708 - val_loss: 0.9456 - lr: 5.5129e-05\n",
      "Epoch 4/30\n",
      "100/100 [==============================] - 96s 958ms/step - loss: 0.1750 - val_loss: 0.5425 - lr: 7.2790e-05\n",
      "Epoch 5/30\n",
      "100/100 [==============================] - 97s 973ms/step - loss: 0.0604 - val_loss: 0.2709 - lr: 9.6108e-05\n",
      "Epoch 6/30\n",
      "100/100 [==============================] - 96s 964ms/step - loss: 0.0438 - val_loss: 0.1328 - lr: 1.2690e-04\n",
      "Epoch 7/30\n",
      "100/100 [==============================] - 96s 957ms/step - loss: 0.0369 - val_loss: 0.1171 - lr: 1.6755e-04\n",
      "Epoch 8/30\n",
      "100/100 [==============================] - 95s 948ms/step - loss: 0.0321 - val_loss: 0.1175 - lr: 2.2122e-04\n",
      "Epoch 9/30\n",
      "100/100 [==============================] - 94s 942ms/step - loss: 0.0279 - val_loss: 0.1193 - lr: 2.9209e-04\n",
      "Epoch 10/30\n",
      "100/100 [==============================] - 96s 956ms/step - loss: 0.0251 - val_loss: 0.1143 - lr: 3.8566e-04\n",
      "Epoch 11/30\n",
      "100/100 [==============================] - 95s 950ms/step - loss: 0.0220 - val_loss: 0.1444 - lr: 5.0921e-04\n",
      "Epoch 12/30\n",
      "100/100 [==============================] - 95s 949ms/step - loss: 0.0199 - val_loss: 0.1826 - lr: 6.7234e-04\n",
      "Epoch 13/30\n",
      "100/100 [==============================] - 94s 939ms/step - loss: 0.0182 - val_loss: 0.2162 - lr: 8.8772e-04\n",
      "Epoch 14/30\n",
      "100/100 [==============================] - 96s 956ms/step - loss: 0.0155 - val_loss: 0.2565 - lr: 0.0012\n",
      "Epoch 15/30\n",
      "100/100 [==============================] - 95s 954ms/step - loss: 0.0146 - val_loss: 0.2833 - lr: 0.0015\n",
      "Epoch 16/30\n",
      "100/100 [==============================] - 96s 957ms/step - loss: 0.0124 - val_loss: 0.2769 - lr: 0.0020\n",
      "Epoch 17/30\n",
      "100/100 [==============================] - 95s 945ms/step - loss: 0.0120 - val_loss: 0.2543 - lr: 0.0027\n",
      "Epoch 18/30\n",
      "100/100 [==============================] - 94s 945ms/step - loss: 0.0105 - val_loss: 0.2400 - lr: 0.0036\n",
      "Epoch 19/30\n",
      "100/100 [==============================] - 96s 957ms/step - loss: 0.0097 - val_loss: 0.2599 - lr: 0.0047\n",
      "Epoch 20/30\n",
      "100/100 [==============================] - 94s 940ms/step - loss: 0.0096 - val_loss: 0.2448 - lr: 0.0062\n",
      "Epoch 21/30\n",
      "100/100 [==============================] - 95s 947ms/step - loss: 0.0089 - val_loss: 0.2476 - lr: 0.0082\n",
      "Epoch 22/30\n",
      "100/100 [==============================] - 94s 944ms/step - loss: 0.0080 - val_loss: 0.2701 - lr: 0.0108\n",
      "Epoch 23/30\n",
      "100/100 [==============================] - 94s 941ms/step - loss: 0.0072 - val_loss: 0.3117 - lr: 0.0143\n",
      "Epoch 24/30\n",
      "100/100 [==============================] - 94s 940ms/step - loss: 0.9628 - val_loss: 1.0004 - lr: 0.0189\n",
      "Epoch 25/30\n",
      "100/100 [==============================] - 94s 940ms/step - loss: 2.4984 - val_loss: 0.9986 - lr: 0.0249\n",
      "Epoch 26/30\n",
      "100/100 [==============================] - 95s 949ms/step - loss: 2.4894 - val_loss: 0.9986 - lr: 0.0329\n",
      "Epoch 27/30\n",
      "100/100 [==============================] - 93s 933ms/step - loss: 2.4994 - val_loss: 0.9986 - lr: 0.0434\n",
      "Epoch 28/30\n",
      "100/100 [==============================] - 93s 934ms/step - loss: 2.5036 - val_loss: 0.9986 - lr: 0.0574\n",
      "Epoch 29/30\n",
      "100/100 [==============================] - 93s 934ms/step - loss: 2.5023 - val_loss: 0.9986 - lr: 0.0757\n",
      "Epoch 30/30\n",
      "100/100 [==============================] - 95s 947ms/step - loss: 2.4859 - val_loss: 0.9986 - lr: 0.1000\n"
     ]
    }
   ],
   "source": [
    "history_lr_rate_range_test = model.fit(\n",
    "    x=train_generator,\n",
    "    validation_data=val_generator,\n",
    "    validation_steps=100,  \n",
    "    epochs=30,  \n",
    "    callbacks=cb,  \n",
    "    verbose=1,\n",
    "    use_multiprocessing=False,   \n",
    "    \n",
    ")"
   ]
  },
  {
   "cell_type": "code",
   "execution_count": 30,
   "metadata": {},
   "outputs": [
    {
     "data": {
      "image/png": "[encoded data removed]",
      "text/plain": [
       "<Figure size 720x720 with 1 Axes>"
      ]
     },
     "metadata": {
      "needs_background": "light"
     },
     "output_type": "display_data"
    }
   ],
   "source": [
    "plt.subplots(figsize=(10,10))\n",
    "plt.tight_layout()\n",
    "viz.display_training_curves(\n",
    "    history_lr_rate_range_test.history['loss'], history_lr_rate_range_test.history['val_loss'], 'loss', 111, x=np.logspace(-4.5, -1, 30)\n",
    ")\n",
    "plt.xscale('log')"
   ]
  },
  {
   "cell_type": "markdown",
   "metadata": {
    "id": "WuEmT2AZODXi"
   },
   "source": [
    "# Training\n"
   ]
  },
  {
   "cell_type": "code",
   "execution_count": 19,
   "metadata": {},
   "outputs": [],
   "source": [
    "model = tf.keras.models.load_model(str(model_paths.autosaved_model_path) + \".hdf5\")"
   ]
  },
  {
   "cell_type": "code",
   "execution_count": 30,
   "metadata": {},
   "outputs": [
    {
     "name": "stdout",
     "output_type": "stream",
     "text": [
      "6.309573444801929e-05\n"
     ]
    }
   ],
   "source": [
    "lr = 0.001\n",
    "\n",
    "from keras import backend as K\n",
    "K.set_value(model.optimizer.learning_rate, lr)\n",
    "\n",
    "cb = [\n",
    "    autosave_cb,\n",
    "    logger_cb,\n",
    "    callbacks.TerminateOnNaN(),\n",
    "    reduce_lr_cb,\n",
    "#     lr_range_test_schedule_cb\n",
    "]\n",
    "\n",
    "train_generator.force_shorter_epoch = 100"
   ]
  },
  {
   "cell_type": "code",
   "execution_count": 31,
   "metadata": {},
   "outputs": [
    {
     "name": "stdout",
     "output_type": "stream",
     "text": [
      "Epoch 31/40\n",
      "INFO:tensorflow:batch_all_reduce: 135 all-reduces with algorithm = nccl, num_packs = 1\n",
      "INFO:tensorflow:batch_all_reduce: 135 all-reduces with algorithm = nccl, num_packs = 1\n",
      "562/562 [==============================] - 625s 1s/step - loss: 0.0196 - val_loss: 0.1656 - lr: 6.3096e-05\n",
      "Epoch 32/40\n",
      "562/562 [==============================] - 507s 902ms/step - loss: 0.0160 - val_loss: 0.1819 - lr: 6.3096e-05\n",
      "Epoch 33/40\n",
      "562/562 [==============================] - 506s 901ms/step - loss: 0.0140 - val_loss: 0.1996 - lr: 6.3096e-05\n",
      "Epoch 34/40\n",
      "562/562 [==============================] - 507s 902ms/step - loss: 0.0127 - val_loss: 0.2132 - lr: 6.3096e-05\n",
      "Epoch 35/40\n",
      "562/562 [==============================] - 508s 904ms/step - loss: 0.0115 - val_loss: 0.2240 - lr: 6.3096e-05\n",
      "Epoch 36/40\n",
      "562/562 [==============================] - ETA: 0s - loss: 0.0108\n",
      "Epoch 00036: ReduceLROnPlateauBacktrack reducinglearning rate to 3.15478682750836e-05 and backtracking.\n",
      "562/562 [==============================] - 515s 917ms/step - loss: 0.0108 - val_loss: 0.2339 - lr: 6.3096e-05\n",
      "Epoch 37/40\n",
      "562/562 [==============================] - 508s 904ms/step - loss: 0.0165 - val_loss: 0.1732 - lr: 3.1548e-05\n",
      "Epoch 38/40\n",
      "562/562 [==============================] - 513s 913ms/step - loss: 0.0153 - val_loss: 0.1807 - lr: 3.1548e-05\n",
      "Epoch 39/40\n",
      "562/562 [==============================] - 507s 902ms/step - loss: 0.0143 - val_loss: 0.1873 - lr: 3.1548e-05\n",
      "Epoch 40/40\n",
      "562/562 [==============================] - 512s 911ms/step - loss: 0.0135 - val_loss: 0.1984 - lr: 3.1548e-05\n"
     ]
    }
   ],
   "source": [
    "history = model.fit(\n",
    "    x=train_generator,\n",
    "    validation_data=val_generator,\n",
    "    validation_steps=100,  \n",
    "    epochs=40,  \n",
    "    callbacks=cb,  \n",
    "    verbose=1,\n",
    "    use_multiprocessing=False,   \n",
    "    \n",
    "    initial_epoch=30,\n",
    ")"
   ]
  },
  {
   "cell_type": "code",
   "execution_count": 36,
   "metadata": {},
   "outputs": [
    {
     "data": {
      "image/png": "[encoded data removed]",
      "text/plain": [
       "<Figure size 720x720 with 1 Axes>"
      ]
     },
     "metadata": {
      "needs_background": "light"
     },
     "output_type": "display_data"
    }
   ],
   "source": [
    "plt.subplots(figsize=(10,10))\n",
    "plt.tight_layout()\n",
    "viz.display_training_curves(history.history['loss'], history.history['val_loss'], 'loss', 111)"
   ]
  },
  {
   "cell_type": "markdown",
   "metadata": {},
   "source": [
    "# Training 2nd round"
   ]
  },
  {
   "cell_type": "code",
   "execution_count": 37,
   "metadata": {},
   "outputs": [
    {
     "data": {
      "text/plain": [
       "<tf.Tensor: shape=(), dtype=float32, numpy=7.886967e-06>"
      ]
     },
     "execution_count": 37,
     "metadata": {},
     "output_type": "execute_result"
    }
   ],
   "source": [
    "model.optimizer.learning_rate / 2"
   ]
  },
  {
   "cell_type": "code",
   "execution_count": 38,
   "metadata": {},
   "outputs": [],
   "source": [
    "reduce_lr_cb = ReduceLROnPlateauBacktrack(\n",
    "    model,\n",
    "    str(model_paths.autosaved_model_path) + \".hdf5\",  \n",
    "    monitor=\"val_loss\",\n",
    "    factor=0.5,\n",
    "    patience=4,\n",
    "    verbose=1,\n",
    "    mode=\"auto\",\n",
    "    min_delta=0,\n",
    "    min_lr=1e-5,\n",
    ")\n",
    "\n",
    "lr = 1.5773934e-05\n",
    "\n",
    "from tensorflow.keras import backend as K\n",
    "K.set_value(model.optimizer.learning_rate, lr)\n",
    "\n",
    "cb = [\n",
    "    autosave_cb,\n",
    "    logger_cb,\n",
    "    callbacks.TerminateOnNaN(),\n",
    "    reduce_lr_cb,\n",
    "#     lr_range_test_schedule_cb\n",
    "]\n",
    "\n",
    "train_generator.force_shorter_epoch = 300"
   ]
  },
  {
   "cell_type": "code",
   "execution_count": 39,
   "metadata": {},
   "outputs": [
    {
     "name": "stdout",
     "output_type": "stream",
     "text": [
      "Epoch 41/55\n",
      "300/300 [==============================] - 276s 922ms/step - loss: 0.0130 - val_loss: 0.2000 - lr: 1.5774e-05\n",
      "Epoch 42/55\n",
      "300/300 [==============================] - 272s 906ms/step - loss: 0.0127 - val_loss: 0.2018 - lr: 1.5774e-05\n",
      "Epoch 43/55\n",
      "300/300 [==============================] - 273s 909ms/step - loss: 0.0125 - val_loss: 0.2027 - lr: 1.5774e-05\n",
      "Epoch 44/55\n",
      "300/300 [==============================] - 272s 906ms/step - loss: 0.0124 - val_loss: 0.2052 - lr: 1.5774e-05\n",
      "Epoch 45/55\n",
      "300/300 [==============================] - ETA: 0s - loss: 0.0122\n",
      "Epoch 00045: ReduceLROnPlateauBacktrack reducinglearning rate to 1e-05 and backtracking.\n",
      "300/300 [==============================] - 274s 913ms/step - loss: 0.0122 - val_loss: 0.2074 - lr: 1.5774e-05\n",
      "Epoch 46/55\n",
      "300/300 [==============================] - 280s 934ms/step - loss: 0.0171 - val_loss: 0.1630 - lr: 1.0000e-05\n",
      "Epoch 47/55\n",
      "300/300 [==============================] - 276s 920ms/step - loss: 0.0168 - val_loss: 0.1657 - lr: 1.0000e-05\n",
      "Epoch 48/55\n",
      "300/300 [==============================] - 274s 913ms/step - loss: 0.0165 - val_loss: 0.1681 - lr: 1.0000e-05\n",
      "Epoch 49/55\n",
      "300/300 [==============================] - 277s 923ms/step - loss: 0.0163 - val_loss: 0.1698 - lr: 1.0000e-05\n",
      "Epoch 50/55\n",
      "300/300 [==============================] - 274s 913ms/step - loss: 0.0159 - val_loss: 0.1717 - lr: 1.0000e-05\n",
      "Epoch 51/55\n",
      "300/300 [==============================] - 276s 920ms/step - loss: 0.0158 - val_loss: 0.1741 - lr: 1.0000e-05\n",
      "Epoch 52/55\n",
      " 30/300 [==>...........................] - ETA: 4:00 - loss: 0.0155"
     ]
    },
    {
     "ename": "KeyboardInterrupt",
     "evalue": "",
     "output_type": "error",
     "traceback": [
      "\u001b[0;31m---------------------------------------------------------------------------\u001b[0m",
      "\u001b[0;31mKeyboardInterrupt\u001b[0m                         Traceback (most recent call last)",
      "\u001b[0;32m<ipython-input-39-2b90a4f48658>\u001b[0m in \u001b[0;36m<module>\u001b[0;34m\u001b[0m\n\u001b[0;32m----> 1\u001b[0;31m history_2 = model.fit(\n\u001b[0m\u001b[1;32m      2\u001b[0m     \u001b[0mx\u001b[0m\u001b[0;34m=\u001b[0m\u001b[0mtrain_generator\u001b[0m\u001b[0;34m,\u001b[0m\u001b[0;34m\u001b[0m\u001b[0;34m\u001b[0m\u001b[0m\n\u001b[1;32m      3\u001b[0m     \u001b[0mvalidation_data\u001b[0m\u001b[0;34m=\u001b[0m\u001b[0mval_generator\u001b[0m\u001b[0;34m,\u001b[0m\u001b[0;34m\u001b[0m\u001b[0;34m\u001b[0m\u001b[0m\n\u001b[1;32m      4\u001b[0m     \u001b[0mvalidation_steps\u001b[0m\u001b[0;34m=\u001b[0m\u001b[0;36m100\u001b[0m\u001b[0;34m,\u001b[0m  \u001b[0;31m# todo put in summary\u001b[0m\u001b[0;34m\u001b[0m\u001b[0;34m\u001b[0m\u001b[0m\n\u001b[1;32m      5\u001b[0m     \u001b[0mepochs\u001b[0m\u001b[0;34m=\u001b[0m\u001b[0;36m55\u001b[0m\u001b[0;34m,\u001b[0m  \u001b[0;31m# todo put this in variable\u001b[0m\u001b[0;34m\u001b[0m\u001b[0;34m\u001b[0m\u001b[0m\n",
      "\u001b[0;32m~/projects/tomo2seg/condaenv/lib/python3.8/site-packages/tensorflow/python/keras/engine/training.py\u001b[0m in \u001b[0;36m_method_wrapper\u001b[0;34m(self, *args, **kwargs)\u001b[0m\n\u001b[1;32m     64\u001b[0m   \u001b[0;32mdef\u001b[0m \u001b[0m_method_wrapper\u001b[0m\u001b[0;34m(\u001b[0m\u001b[0mself\u001b[0m\u001b[0;34m,\u001b[0m \u001b[0;34m*\u001b[0m\u001b[0margs\u001b[0m\u001b[0;34m,\u001b[0m \u001b[0;34m**\u001b[0m\u001b[0mkwargs\u001b[0m\u001b[0;34m)\u001b[0m\u001b[0;34m:\u001b[0m\u001b[0;34m\u001b[0m\u001b[0;34m\u001b[0m\u001b[0m\n\u001b[1;32m     65\u001b[0m     \u001b[0;32mif\u001b[0m \u001b[0;32mnot\u001b[0m \u001b[0mself\u001b[0m\u001b[0;34m.\u001b[0m\u001b[0m_in_multi_worker_mode\u001b[0m\u001b[0;34m(\u001b[0m\u001b[0;34m)\u001b[0m\u001b[0;34m:\u001b[0m  \u001b[0;31m# pylint: disable=protected-access\u001b[0m\u001b[0;34m\u001b[0m\u001b[0;34m\u001b[0m\u001b[0m\n\u001b[0;32m---> 66\u001b[0;31m       \u001b[0;32mreturn\u001b[0m \u001b[0mmethod\u001b[0m\u001b[0;34m(\u001b[0m\u001b[0mself\u001b[0m\u001b[0;34m,\u001b[0m \u001b[0;34m*\u001b[0m\u001b[0margs\u001b[0m\u001b[0;34m,\u001b[0m \u001b[0;34m**\u001b[0m\u001b[0mkwargs\u001b[0m\u001b[0;34m)\u001b[0m\u001b[0;34m\u001b[0m\u001b[0;34m\u001b[0m\u001b[0m\n\u001b[0m\u001b[1;32m     67\u001b[0m \u001b[0;34m\u001b[0m\u001b[0m\n\u001b[1;32m     68\u001b[0m     \u001b[0;31m# Running inside `run_distribute_coordinator` already.\u001b[0m\u001b[0;34m\u001b[0m\u001b[0;34m\u001b[0m\u001b[0;34m\u001b[0m\u001b[0m\n",
      "\u001b[0;32m~/projects/tomo2seg/condaenv/lib/python3.8/site-packages/tensorflow/python/keras/engine/training.py\u001b[0m in \u001b[0;36mfit\u001b[0;34m(self, x, y, batch_size, epochs, verbose, callbacks, validation_split, validation_data, shuffle, class_weight, sample_weight, initial_epoch, steps_per_epoch, validation_steps, validation_batch_size, validation_freq, max_queue_size, workers, use_multiprocessing)\u001b[0m\n\u001b[1;32m    846\u001b[0m                 batch_size=batch_size):\n\u001b[1;32m    847\u001b[0m               \u001b[0mcallbacks\u001b[0m\u001b[0;34m.\u001b[0m\u001b[0mon_train_batch_begin\u001b[0m\u001b[0;34m(\u001b[0m\u001b[0mstep\u001b[0m\u001b[0;34m)\u001b[0m\u001b[0;34m\u001b[0m\u001b[0;34m\u001b[0m\u001b[0m\n\u001b[0;32m--> 848\u001b[0;31m               \u001b[0mtmp_logs\u001b[0m \u001b[0;34m=\u001b[0m \u001b[0mtrain_function\u001b[0m\u001b[0;34m(\u001b[0m\u001b[0miterator\u001b[0m\u001b[0;34m)\u001b[0m\u001b[0;34m\u001b[0m\u001b[0;34m\u001b[0m\u001b[0m\n\u001b[0m\u001b[1;32m    849\u001b[0m               \u001b[0;31m# Catch OutOfRangeError for Datasets of unknown size.\u001b[0m\u001b[0;34m\u001b[0m\u001b[0;34m\u001b[0m\u001b[0;34m\u001b[0m\u001b[0m\n\u001b[1;32m    850\u001b[0m               \u001b[0;31m# This blocks until the batch has finished executing.\u001b[0m\u001b[0;34m\u001b[0m\u001b[0;34m\u001b[0m\u001b[0;34m\u001b[0m\u001b[0m\n",
      "\u001b[0;32m~/projects/tomo2seg/condaenv/lib/python3.8/site-packages/tensorflow/python/eager/def_function.py\u001b[0m in \u001b[0;36m__call__\u001b[0;34m(self, *args, **kwds)\u001b[0m\n\u001b[1;32m    578\u001b[0m         \u001b[0mxla_context\u001b[0m\u001b[0;34m.\u001b[0m\u001b[0mExit\u001b[0m\u001b[0;34m(\u001b[0m\u001b[0;34m)\u001b[0m\u001b[0;34m\u001b[0m\u001b[0;34m\u001b[0m\u001b[0m\n\u001b[1;32m    579\u001b[0m     \u001b[0;32melse\u001b[0m\u001b[0;34m:\u001b[0m\u001b[0;34m\u001b[0m\u001b[0;34m\u001b[0m\u001b[0m\n\u001b[0;32m--> 580\u001b[0;31m       \u001b[0mresult\u001b[0m \u001b[0;34m=\u001b[0m \u001b[0mself\u001b[0m\u001b[0;34m.\u001b[0m\u001b[0m_call\u001b[0m\u001b[0;34m(\u001b[0m\u001b[0;34m*\u001b[0m\u001b[0margs\u001b[0m\u001b[0;34m,\u001b[0m \u001b[0;34m**\u001b[0m\u001b[0mkwds\u001b[0m\u001b[0;34m)\u001b[0m\u001b[0;34m\u001b[0m\u001b[0;34m\u001b[0m\u001b[0m\n\u001b[0m\u001b[1;32m    581\u001b[0m \u001b[0;34m\u001b[0m\u001b[0m\n\u001b[1;32m    582\u001b[0m     \u001b[0;32mif\u001b[0m \u001b[0mtracing_count\u001b[0m \u001b[0;34m==\u001b[0m \u001b[0mself\u001b[0m\u001b[0;34m.\u001b[0m\u001b[0m_get_tracing_count\u001b[0m\u001b[0;34m(\u001b[0m\u001b[0;34m)\u001b[0m\u001b[0;34m:\u001b[0m\u001b[0;34m\u001b[0m\u001b[0;34m\u001b[0m\u001b[0m\n",
      "\u001b[0;32m~/projects/tomo2seg/condaenv/lib/python3.8/site-packages/tensorflow/python/eager/def_function.py\u001b[0m in \u001b[0;36m_call\u001b[0;34m(self, *args, **kwds)\u001b[0m\n\u001b[1;32m    609\u001b[0m       \u001b[0;31m# In this case we have created variables on the first call, so we run the\u001b[0m\u001b[0;34m\u001b[0m\u001b[0;34m\u001b[0m\u001b[0;34m\u001b[0m\u001b[0m\n\u001b[1;32m    610\u001b[0m       \u001b[0;31m# defunned version which is guaranteed to never create variables.\u001b[0m\u001b[0;34m\u001b[0m\u001b[0;34m\u001b[0m\u001b[0;34m\u001b[0m\u001b[0m\n\u001b[0;32m--> 611\u001b[0;31m       \u001b[0;32mreturn\u001b[0m \u001b[0mself\u001b[0m\u001b[0;34m.\u001b[0m\u001b[0m_stateless_fn\u001b[0m\u001b[0;34m(\u001b[0m\u001b[0;34m*\u001b[0m\u001b[0margs\u001b[0m\u001b[0;34m,\u001b[0m \u001b[0;34m**\u001b[0m\u001b[0mkwds\u001b[0m\u001b[0;34m)\u001b[0m  \u001b[0;31m# pylint: disable=not-callable\u001b[0m\u001b[0;34m\u001b[0m\u001b[0;34m\u001b[0m\u001b[0m\n\u001b[0m\u001b[1;32m    612\u001b[0m     \u001b[0;32melif\u001b[0m \u001b[0mself\u001b[0m\u001b[0;34m.\u001b[0m\u001b[0m_stateful_fn\u001b[0m \u001b[0;32mis\u001b[0m \u001b[0;32mnot\u001b[0m \u001b[0;32mNone\u001b[0m\u001b[0;34m:\u001b[0m\u001b[0;34m\u001b[0m\u001b[0;34m\u001b[0m\u001b[0m\n\u001b[1;32m    613\u001b[0m       \u001b[0;31m# Release the lock early so that multiple threads can perform the call\u001b[0m\u001b[0;34m\u001b[0m\u001b[0;34m\u001b[0m\u001b[0;34m\u001b[0m\u001b[0m\n",
      "\u001b[0;32m~/projects/tomo2seg/condaenv/lib/python3.8/site-packages/tensorflow/python/eager/function.py\u001b[0m in \u001b[0;36m__call__\u001b[0;34m(self, *args, **kwargs)\u001b[0m\n\u001b[1;32m   2418\u001b[0m     \u001b[0;32mwith\u001b[0m \u001b[0mself\u001b[0m\u001b[0;34m.\u001b[0m\u001b[0m_lock\u001b[0m\u001b[0;34m:\u001b[0m\u001b[0;34m\u001b[0m\u001b[0;34m\u001b[0m\u001b[0m\n\u001b[1;32m   2419\u001b[0m       \u001b[0mgraph_function\u001b[0m\u001b[0;34m,\u001b[0m \u001b[0margs\u001b[0m\u001b[0;34m,\u001b[0m \u001b[0mkwargs\u001b[0m \u001b[0;34m=\u001b[0m \u001b[0mself\u001b[0m\u001b[0;34m.\u001b[0m\u001b[0m_maybe_define_function\u001b[0m\u001b[0;34m(\u001b[0m\u001b[0margs\u001b[0m\u001b[0;34m,\u001b[0m \u001b[0mkwargs\u001b[0m\u001b[0;34m)\u001b[0m\u001b[0;34m\u001b[0m\u001b[0;34m\u001b[0m\u001b[0m\n\u001b[0;32m-> 2420\u001b[0;31m     \u001b[0;32mreturn\u001b[0m \u001b[0mgraph_function\u001b[0m\u001b[0;34m.\u001b[0m\u001b[0m_filtered_call\u001b[0m\u001b[0;34m(\u001b[0m\u001b[0margs\u001b[0m\u001b[0;34m,\u001b[0m \u001b[0mkwargs\u001b[0m\u001b[0;34m)\u001b[0m  \u001b[0;31m# pylint: disable=protected-access\u001b[0m\u001b[0;34m\u001b[0m\u001b[0;34m\u001b[0m\u001b[0m\n\u001b[0m\u001b[1;32m   2421\u001b[0m \u001b[0;34m\u001b[0m\u001b[0m\n\u001b[1;32m   2422\u001b[0m   \u001b[0;34m@\u001b[0m\u001b[0mproperty\u001b[0m\u001b[0;34m\u001b[0m\u001b[0;34m\u001b[0m\u001b[0m\n",
      "\u001b[0;32m~/projects/tomo2seg/condaenv/lib/python3.8/site-packages/tensorflow/python/eager/function.py\u001b[0m in \u001b[0;36m_filtered_call\u001b[0;34m(self, args, kwargs)\u001b[0m\n\u001b[1;32m   1659\u001b[0m       \u001b[0;31m`\u001b[0m\u001b[0margs\u001b[0m\u001b[0;31m`\u001b[0m \u001b[0;32mand\u001b[0m\u001b[0;31m \u001b[0m\u001b[0;31m`\u001b[0m\u001b[0mkwargs\u001b[0m\u001b[0;31m`\u001b[0m\u001b[0;34m.\u001b[0m\u001b[0;34m\u001b[0m\u001b[0;34m\u001b[0m\u001b[0m\n\u001b[1;32m   1660\u001b[0m     \"\"\"\n\u001b[0;32m-> 1661\u001b[0;31m     return self._call_flat(\n\u001b[0m\u001b[1;32m   1662\u001b[0m         (t for t in nest.flatten((args, kwargs), expand_composites=True)\n\u001b[1;32m   1663\u001b[0m          if isinstance(t, (ops.Tensor,\n",
      "\u001b[0;32m~/projects/tomo2seg/condaenv/lib/python3.8/site-packages/tensorflow/python/eager/function.py\u001b[0m in \u001b[0;36m_call_flat\u001b[0;34m(self, args, captured_inputs, cancellation_manager)\u001b[0m\n\u001b[1;32m   1743\u001b[0m         and executing_eagerly):\n\u001b[1;32m   1744\u001b[0m       \u001b[0;31m# No tape is watching; skip to running the function.\u001b[0m\u001b[0;34m\u001b[0m\u001b[0;34m\u001b[0m\u001b[0;34m\u001b[0m\u001b[0m\n\u001b[0;32m-> 1745\u001b[0;31m       return self._build_call_outputs(self._inference_function.call(\n\u001b[0m\u001b[1;32m   1746\u001b[0m           ctx, args, cancellation_manager=cancellation_manager))\n\u001b[1;32m   1747\u001b[0m     forward_backward = self._select_forward_and_backward_functions(\n",
      "\u001b[0;32m~/projects/tomo2seg/condaenv/lib/python3.8/site-packages/tensorflow/python/eager/function.py\u001b[0m in \u001b[0;36mcall\u001b[0;34m(self, ctx, args, cancellation_manager)\u001b[0m\n\u001b[1;32m    591\u001b[0m       \u001b[0;32mwith\u001b[0m \u001b[0m_InterpolateFunctionError\u001b[0m\u001b[0;34m(\u001b[0m\u001b[0mself\u001b[0m\u001b[0;34m)\u001b[0m\u001b[0;34m:\u001b[0m\u001b[0;34m\u001b[0m\u001b[0;34m\u001b[0m\u001b[0m\n\u001b[1;32m    592\u001b[0m         \u001b[0;32mif\u001b[0m \u001b[0mcancellation_manager\u001b[0m \u001b[0;32mis\u001b[0m \u001b[0;32mNone\u001b[0m\u001b[0;34m:\u001b[0m\u001b[0;34m\u001b[0m\u001b[0;34m\u001b[0m\u001b[0m\n\u001b[0;32m--> 593\u001b[0;31m           outputs = execute.execute(\n\u001b[0m\u001b[1;32m    594\u001b[0m               \u001b[0mstr\u001b[0m\u001b[0;34m(\u001b[0m\u001b[0mself\u001b[0m\u001b[0;34m.\u001b[0m\u001b[0msignature\u001b[0m\u001b[0;34m.\u001b[0m\u001b[0mname\u001b[0m\u001b[0;34m)\u001b[0m\u001b[0;34m,\u001b[0m\u001b[0;34m\u001b[0m\u001b[0;34m\u001b[0m\u001b[0m\n\u001b[1;32m    595\u001b[0m               \u001b[0mnum_outputs\u001b[0m\u001b[0;34m=\u001b[0m\u001b[0mself\u001b[0m\u001b[0;34m.\u001b[0m\u001b[0m_num_outputs\u001b[0m\u001b[0;34m,\u001b[0m\u001b[0;34m\u001b[0m\u001b[0;34m\u001b[0m\u001b[0m\n",
      "\u001b[0;32m~/projects/tomo2seg/condaenv/lib/python3.8/site-packages/tensorflow/python/eager/execute.py\u001b[0m in \u001b[0;36mquick_execute\u001b[0;34m(op_name, num_outputs, inputs, attrs, ctx, name)\u001b[0m\n\u001b[1;32m     57\u001b[0m   \u001b[0;32mtry\u001b[0m\u001b[0;34m:\u001b[0m\u001b[0;34m\u001b[0m\u001b[0;34m\u001b[0m\u001b[0m\n\u001b[1;32m     58\u001b[0m     \u001b[0mctx\u001b[0m\u001b[0;34m.\u001b[0m\u001b[0mensure_initialized\u001b[0m\u001b[0;34m(\u001b[0m\u001b[0;34m)\u001b[0m\u001b[0;34m\u001b[0m\u001b[0;34m\u001b[0m\u001b[0m\n\u001b[0;32m---> 59\u001b[0;31m     tensors = pywrap_tfe.TFE_Py_Execute(ctx._handle, device_name, op_name,\n\u001b[0m\u001b[1;32m     60\u001b[0m                                         inputs, attrs, num_outputs)\n\u001b[1;32m     61\u001b[0m   \u001b[0;32mexcept\u001b[0m \u001b[0mcore\u001b[0m\u001b[0;34m.\u001b[0m\u001b[0m_NotOkStatusException\u001b[0m \u001b[0;32mas\u001b[0m \u001b[0me\u001b[0m\u001b[0;34m:\u001b[0m\u001b[0;34m\u001b[0m\u001b[0;34m\u001b[0m\u001b[0m\n",
      "\u001b[0;31mKeyboardInterrupt\u001b[0m: "
     ]
    }
   ],
   "source": [
    "history_2 = model.fit(\n",
    "    x=train_generator,\n",
    "    validation_data=val_generator,\n",
    "    validation_steps=100,  \n",
    "    epochs=55,  \n",
    "    callbacks=cb,  \n",
    "    verbose=1,\n",
    "    use_multiprocessing=False,   \n",
    "    \n",
    "    initial_epoch=40,\n",
    ")"
   ]
  },
  {
   "cell_type": "code",
   "execution_count": 43,
   "metadata": {},
   "outputs": [],
   "source": [
    "with mirrored_strategy.scope():\n",
    "    model = tf.keras.models.load_model(str(model_paths.autosaved_model_path) + \".hdf5\")"
   ]
  },
  {
   "cell_type": "code",
   "execution_count": 44,
   "metadata": {},
   "outputs": [],
   "source": [
    "reduce_lr_cb = ReduceLROnPlateauBacktrack(\n",
    "    model,\n",
    "    str(model_paths.autosaved_model_path) + \".hdf5\",  \n",
    "    monitor=\"val_loss\",\n",
    "    factor=2./3,\n",
    "    patience=3,\n",
    "    verbose=1,\n",
    "    mode=\"auto\",\n",
    "    min_delta=0,\n",
    "    min_lr=1e-7,\n",
    ")\n",
    "\n",
    "lr = 1e-05\n",
    "\n",
    "from tensorflow.keras import backend as K\n",
    "K.set_value(model.optimizer.learning_rate, lr)\n",
    "\n",
    "cb = [\n",
    "    autosave_cb,\n",
    "    logger_cb,\n",
    "    callbacks.TerminateOnNaN(),\n",
    "    reduce_lr_cb,\n",
    "#     lr_range_test_schedule_cb\n",
    "]\n",
    "\n",
    "train_generator.force_shorter_epoch = None"
   ]
  },
  {
   "cell_type": "raw",
   "metadata": {},
   "source": []
  },
  {
   "cell_type": "raw",
   "metadata": {
    "executionInfo": {
     "elapsed": 8793,
     "status": "aborted",
     "timestamp": 1602255923919,
     "user": {
      "displayName": "João Paulo Casagrande Bertoldo",
      "photoUrl": "https://lh3.googleusercontent.com/a-/AOh14GioL6iQ5PNE9hm2XaOtZd36rClxQBdpy33-9-QsTUs=s64",
      "userId": "13620585220725745309"
     },
     "user_tz": -120
    },
    "id": "d-EnhRhrrEGQ"
   },
   "source": [
    "history_df = pd.DataFrame({**history.history, **{\"epochs\": history.epoch}})\n",
    "history_df.to_csv(history_csv_path, index=False)"
   ]
  },
  {
   "cell_type": "raw",
   "metadata": {},
   "source": []
  },
  {
   "cell_type": "code",
   "execution_count": 46,
   "metadata": {
    "executionInfo": {
     "elapsed": 8791,
     "status": "aborted",
     "timestamp": 1602255923920,
     "user": {
      "displayName": "João Paulo Casagrande Bertoldo",
      "photoUrl": "https://lh3.googleusercontent.com/a-/AOh14GioL6iQ5PNE9hm2XaOtZd36rClxQBdpy33-9-QsTUs=s64",
      "userId": "13620585220725745309"
     },
     "user_tz": -120
    },
    "id": "LQz6HBJss1o4"
   },
   "outputs": [
    {
     "name": "stdout",
     "output_type": "stream",
     "text": [
      "INFO:tensorflow:Assets written to: /home/users/jcasagrande/projects/tomo2seg/models/dryrun-03/assets\n"
     ]
    }
   ],
   "source": [
    "model.save(model_paths.model_path)"
   ]
  },
  {
   "cell_type": "code",
   "execution_count": null,
   "metadata": {
    "executionInfo": {
     "elapsed": 8787,
     "status": "aborted",
     "timestamp": 1602255923921,
     "user": {
      "displayName": "João Paulo Casagrande Bertoldo",
      "photoUrl": "https://lh3.googleusercontent.com/a-/AOh14GioL6iQ5PNE9hm2XaOtZd36rClxQBdpy33-9-QsTUs=s64",
      "userId": "13620585220725745309"
     },
     "user_tz": -120
    },
    "id": "RRq6qKodQz0n"
   },
   "outputs": [],
   "source": []
  }
 ],
 "metadata": {
  "accelerator": "GPU",
  "colab": {
   "authorship_tag": "ABX9TyP2FW3h3DkQ4XcY6OgH7u/r",
   "collapsed_sections": [
    "EnVqPFS9BNCg",
    "j8e5FhmUaKND",
    "nJtppItnKn5G"
   ],
   "mount_file_id": "1LuEITv9j0lLf8Z418J3a94SjEZ8GvKvI",
   "name": "dryrun-02.ipynb",
   "provenance": [
    {
     "file_id": "1NiX28EcC_FVOYCJL4usp7n5iQ2x3aXIm",
     "timestamp": 1602152789440
    }
   ],
   "toc_visible": true
  },
  "kernelspec": {
   "display_name": "Python 3",
   "language": "python",
   "name": "python3"
  },
  "language_info": {
   "codemirror_mode": {
    "name": "ipython",
    "version": 3
   },
   "file_extension": ".py",
   "mimetype": "text/x-python",
   "name": "python",
   "nbconvert_exporter": "python",
   "pygments_lexer": "ipython3",
   "version": "3.8.2"
  }
 },
 "nbformat": 4,
 "nbformat_minor": 4
}
