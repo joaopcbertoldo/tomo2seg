{
 "cells": [
  {
   "cell_type": "code",
   "execution_count": null,
   "metadata": {},
   "outputs": [],
   "source": [
    "%load_ext autoreload"
   ]
  },
  {
   "cell_type": "code",
   "execution_count": null,
   "metadata": {},
   "outputs": [],
   "source": [
    "%autoreload 2\n",
    "\n",
    "import copy\n",
    "import functools\n",
    "import gc\n",
    "import itertools\n",
    "import logging\n",
    "import operator\n",
    "import os\n",
    "import pathlib\n",
    "import re\n",
    "import socket\n",
    "import sys\n",
    "import time\n",
    "from collections import Counter\n",
    "from dataclasses import asdict, dataclass, field\n",
    "from enum import Enum\n",
    "from functools import partial\n",
    "from pathlib import Path\n",
    "from pprint import PrettyPrinter, pprint\n",
    "from typing import *"
   ]
  },
  {
   "cell_type": "code",
   "execution_count": null,
   "metadata": {},
   "outputs": [],
   "source": [
    "%autoreload 2\n",
    "\n",
    "import humanize\n",
    "import matplotlib\n",
    "import numpy as np\n",
    "import pandas as pd\n",
    "import scipy as sp\n",
    "import tensorflow as tf\n",
    "import yaml\n",
    "from matplotlib import cm, patches, pyplot as plt\n",
    "from numpy import ndarray\n",
    "from numpy.random import RandomState\n",
    "from progressbar import progressbar as pbar\n",
    "from pymicro.file import file_utils\n",
    "from sklearn import metrics, metrics as met, model_selection, preprocessing\n",
    "from tensorflow import keras\n",
    "from tensorflow.keras import (\n",
    "    callbacks as keras_callbacks,\n",
    "    layers,\n",
    "    losses,\n",
    "    metrics as keras_metrics,\n",
    "    optimizers,\n",
    "    utils,\n",
    ")\n",
    "from tqdm import tqdm\n",
    "from yaml import YAMLObject"
   ]
  },
  {
   "cell_type": "code",
   "execution_count": null,
   "metadata": {
    "lines_to_next_cell": 2
   },
   "outputs": [],
   "source": [
    "%autoreload 2\n",
    "\n",
    "from tomo2seg import (\n",
    "    callbacks as tomo2seg_callbacks,\n",
    "    data as tomo2seg_data,\n",
    "    losses as tomo2seg_losses,\n",
    "    schedule as tomo2seg_schedule,\n",
    "    slack,\n",
    "    slackme,\n",
    "    utils as tomo2seg_utils,\n",
    "    viz as tomo2seg_viz,\n",
    "    volume_sequence,\n",
    ")\n",
    "from tomo2seg.data import EstimationVolume, Volume\n",
    "from tomo2seg.logger import add_file_handler, dict2str, logger\n",
    "from tomo2seg.model import Model as Tomo2SegModel\n",
    "from tomo2seg.analyse_gt import AnalyseGroundTruthMetaArgs as MetaArgs\n",
    "from tomo2seg.analyse_gt import AnalyseGroundTruthOuputs as Outputs\n",
    "from tomo2seg import analyse_gt\n",
    "from tomo2seg.outputs import BaseOutputs, mkdir_ok"
   ]
  },
  {
   "cell_type": "code",
   "execution_count": null,
   "metadata": {},
   "outputs": [],
   "source": [
    "# this registers a custom exception handler for the whole current notebook\n",
    "get_ipython().set_custom_exc((Exception,), slackme.custom_exc)"
   ]
  },
  {
   "cell_type": "markdown",
   "metadata": {},
   "source": [
    "# MetaArgs"
   ]
  },
  {
   "cell_type": "code",
   "execution_count": null,
   "metadata": {
    "tags": [
     "manual-input"
    ]
   },
   "outputs": [],
   "source": [
    "# [manual-input]\n",
    "from tomo2seg.datasets import (\n",
    "    VOLUME_COMPOSITE_V1 as VOLUME_NAME_VERSION,\n",
    "    VOLUME_COMPOSITE_V1_LABELS_REFINED3 as LABELS_VERSION,\n",
    ")\n",
    "\n",
    "meta_args = MetaArgs(\n",
    "    \n",
    "    volume_name=VOLUME_NAME_VERSION[0],\n",
    "    volume_version=VOLUME_NAME_VERSION[1],\n",
    "    labels_version=LABELS_VERSION,\n",
    "    \n",
    "#     partitions_to_compute=\"...\",  # default: all\n",
    "    partitions_to_compute=(\"train\", \"val\", \"test\"),\n",
    "    \n",
    "    script_name=\"analyse-gt-00.ipynb\",\n",
    "    \n",
    "    host=None,  # None = auto\n",
    "    runid=None,  # None = auto\n",
    "    random_state_seed=42,  # None = auto\n",
    ")"
   ]
  },
  {
   "cell_type": "markdown",
   "metadata": {},
   "source": [
    "# `tomo2seg` objects "
   ]
  },
  {
   "cell_type": "code",
   "execution_count": null,
   "metadata": {},
   "outputs": [],
   "source": [
    "volume = Volume.with_check(\n",
    "    name=meta_args.volume_name, version=meta_args.volume_version\n",
    ")\n",
    "\n",
    "logger.info(f\"volum=\\n{dict2str(asdict(volume))}\")"
   ]
  },
  {
   "cell_type": "markdown",
   "metadata": {},
   "source": [
    "# Args"
   ]
  },
  {
   "cell_type": "code",
   "execution_count": null,
   "metadata": {},
   "outputs": [],
   "source": [
    "partitions_to_compute = analyse_gt.validate_partitions_to_compute(\n",
    "    meta_args.partitions_to_compute, volume\n",
    ")\n",
    "\n",
    "logger.info(f\"{partitions_to_compute=}\")\n",
    "\n",
    "random_state_seed = meta_args.random_state_seed\n",
    "random_state = np.random.RandomState(random_state_seed)\n",
    "\n",
    "runid = meta_args.runid\n",
    "\n",
    "volume_name = volume.fullname\n",
    "\n",
    "data_path = str(volume.data_path)\n",
    "data_meta = {\n",
    "    \"dtype\": volume.metadata.dtype,\n",
    "    \"dims\": volume.metadata.dimensions,\n",
    "}\n",
    "\n",
    "labels_path = str(volume.versioned_labels_path(meta_args.labels_version))\n",
    "\n",
    "partition_slices = {\n",
    "    part: analyse_gt.partition2slice(volume[part]) \n",
    "    for part in partitions_to_compute\n",
    "}\n",
    "\n",
    "labels_idx = volume.metadata.labels\n",
    "labels_names = [volume.metadata.labels_names[idx] for idx in labels_idx]\n",
    "labels_idx_name = dict(zip(labels_idx, labels_names))\n",
    "n_classes = len(labels_idx)\n",
    "\n",
    "adjacent_layers_correlation_nlayer_arg_vals = (1,)\n",
    "\n",
    "outputs_dir = volume.dir / \"ground-truth-analysis\"  # todo move me to the volume obs\n",
    "outputs_dir.mkdir(exist_ok=True)"
   ]
  },
  {
   "cell_type": "markdown",
   "metadata": {},
   "source": [
    "# Outputs"
   ]
  },
  {
   "cell_type": "code",
   "execution_count": null,
   "metadata": {},
   "outputs": [],
   "source": [
    "outputs = Ouputs(outputs_dir)"
   ]
  },
  {
   "cell_type": "markdown",
   "metadata": {},
   "source": [
    "# Setup"
   ]
  },
  {
   "cell_type": "code",
   "execution_count": null,
   "metadata": {},
   "outputs": [],
   "source": [
    "logger.setLevel(logging.DEBUG)"
   ]
  },
  {
   "cell_type": "markdown",
   "metadata": {},
   "source": [
    "# Exec"
   ]
  },
  {
   "cell_type": "markdown",
   "metadata": {},
   "source": [
    "## Load data"
   ]
  },
  {
   "cell_type": "code",
   "execution_count": null,
   "metadata": {
    "tags": [
     "load"
    ]
   },
   "outputs": [],
   "source": [
    "logger.info(\"Loading data from disk.\")\n",
    "data_volume = file_utils.HST_read(\n",
    "    data_path,  # it doesn't accept paths...\n",
    "    autoparse_filename=False,  # the file names are not properly formatted\n",
    "    data_type=data_meta[\"dtype\"],\n",
    "    dims=data_meta[\"dims\"],\n",
    "    verbose=False,\n",
    ")\n",
    "logger.debug(f\"{data_volume.shape=}\")\n",
    "\n",
    "logger.info(\"Loading labels from disk.\")\n",
    "labels_volume = file_utils.HST_read(\n",
    "    labels_path,  # it doesn't accept paths...\n",
    "    autoparse_filename=False,  # the file names are not properly formatted\n",
    "    data_type=\"uint8\",\n",
    "    dims=data_meta[\"dims\"],\n",
    "    verbose=False,\n",
    ")\n",
    "logger.debug(f\"{labels_volume.shape=}\")"
   ]
  },
  {
   "cell_type": "code",
   "execution_count": null,
   "metadata": {
    "tags": [
     "load"
    ]
   },
   "outputs": [],
   "source": [
    "def iterate_partitions() -> Tuple[ndarray, ndarray]:\n",
    "    \"\"\"avoid loading all the partitions one by one (more memory)\"\"\"\n",
    "    \n",
    "    for part in partitions_to_compute:\n",
    "        slice_ = partition_slices[part]\n",
    "        yield (\n",
    "            part,\n",
    "            data_volume[slice_],\n",
    "            labels_volume[slice_],\n",
    "        )"
   ]
  },
  {
   "cell_type": "markdown",
   "metadata": {},
   "source": [
    "## histogram per label"
   ]
  },
  {
   "cell_type": "markdown",
   "metadata": {
    "tags": [
     "compute"
    ]
   },
   "source": [
    "### [compute] histogram per label"
   ]
  },
  {
   "cell_type": "code",
   "execution_count": null,
   "metadata": {
    "tags": [
     "compute"
    ]
   },
   "outputs": [],
   "source": [
    "logger.info(f\"Computing value histograms per label on the partitions.\")\n",
    "hists_per_label = {\n",
    "    alias_: analyse_gt.get_hist_per_label(\n",
    "        data_.ravel(), \n",
    "        labels_.ravel(),\n",
    "        labels_idx=labels_idx,\n",
    "    )[0]  # 1 is the edges array\n",
    "    for alias_, data_, labels_ in iterate_partitions()\n",
    "}\n",
    "logger.info(\"Done.\")"
   ]
  },
  {
   "cell_type": "code",
   "execution_count": null,
   "metadata": {
    "tags": [
     "compute"
    ]
   },
   "outputs": [],
   "source": [
    "logger.info(f\"Computing value histograms per label on the whole volume.\")\n",
    "hists_per_label[None], hist_bin_edges = analyse_gt.get_hist_per_label(\n",
    "    data_volume.ravel(),\n",
    "    labels_volume.ravel(),\n",
    "    labels_idx=labels_idx,\n",
    ")\n",
    "logger.info(\"Done.\")"
   ]
  },
  {
   "cell_type": "code",
   "execution_count": null,
   "metadata": {},
   "outputs": [],
   "source": [
    "hist_bins = hist_bin_edges[:-1]"
   ]
  },
  {
   "cell_type": "markdown",
   "metadata": {
    "tags": [
     "save"
    ]
   },
   "source": [
    "### [save] histogram per label"
   ]
  },
  {
   "cell_type": "code",
   "execution_count": null,
   "metadata": {
    "tags": [
     "save"
    ]
   },
   "outputs": [],
   "source": [
    "logger.info(f\"Saving value histogram per label for all partitions and the whole volume.\")\n",
    "\n",
    "logger.info(\"Saving bins.\")\n",
    "\n",
    "filepath = outputs.histogram_per_label_bins\n",
    "logger.debug(f\"bins ==> {filepath=}\")\n",
    "np.save(file=filepath, arr=hist_bin_edges[:-1])\n",
    "\n",
    "logger.info(\"Saving values.\")\n",
    "\n",
    "for alias, hist in hists_per_label.items():\n",
    "    \n",
    "    filepath = outputs.histogram_per_label(alias)\n",
    "    logger.debug(f\"{alias=} ==> {filepath=}\")\n",
    "    \n",
    "    np.save(file=filepath, arr=hist)\n",
    "\n",
    "logger.info(\"Done.\")"
   ]
  },
  {
   "cell_type": "markdown",
   "metadata": {},
   "source": [
    "### derived computations"
   ]
  },
  {
   "cell_type": "markdown",
   "metadata": {},
   "source": [
    "#### class imbalance"
   ]
  },
  {
   "cell_type": "code",
   "execution_count": null,
   "metadata": {
    "tags": [
     "compute"
    ]
   },
   "outputs": [],
   "source": [
    "class_imbalance = {\n",
    "    partition_alias: part_hist_per_label.sum(axis=1) \n",
    "    for partition_alias, part_hist_per_label in hists_per_label.items()\n",
    "}"
   ]
  },
  {
   "cell_type": "markdown",
   "metadata": {},
   "source": [
    "#### histograms"
   ]
  },
  {
   "cell_type": "code",
   "execution_count": null,
   "metadata": {
    "tags": [
     "compute"
    ]
   },
   "outputs": [],
   "source": [
    "hists = {\n",
    "    partition_alias: part_hist_per_label.sum(axis=0) \n",
    "    for partition_alias, part_hist_per_label in hists_per_label.items()\n",
    "}\n",
    "\n",
    "hists_norm = {\n",
    "    partition_alias: part_hist / part_hist.sum() \n",
    "    for partition_alias, part_hist in hists.items()\n",
    "}"
   ]
  },
  {
   "cell_type": "markdown",
   "metadata": {},
   "source": [
    "#### normalized histograms per label "
   ]
  },
  {
   "cell_type": "code",
   "execution_count": null,
   "metadata": {
    "tags": [
     "compute"
    ]
   },
   "outputs": [],
   "source": [
    "hists_per_label_norm = {\n",
    "    partition_alias: part_hist / part_hist.sum(axis=1, keepdims=True)\n",
    "    for partition_alias, part_hist in hists_per_label.items()\n",
    "}"
   ]
  },
  {
   "cell_type": "markdown",
   "metadata": {},
   "source": [
    "#### histograms per label globally normalized"
   ]
  },
  {
   "cell_type": "code",
   "execution_count": null,
   "metadata": {
    "tags": [
     "compute"
    ]
   },
   "outputs": [],
   "source": [
    "hists_per_label_global_norm = {\n",
    "    partition_alias: part_hist / part_hist.sum() \n",
    "    for partition_alias, part_hist in hists_per_label.items()\n",
    "}"
   ]
  },
  {
   "cell_type": "markdown",
   "metadata": {},
   "source": [
    "### plots"
   ]
  },
  {
   "cell_type": "code",
   "execution_count": null,
   "metadata": {},
   "outputs": [],
   "source": [
    "def get_line_label(label_idx, with_nvoxels=False):\n",
    "    lab = labels_names[label_idx]\n",
    "    lab += (\n",
    "        f\" (nvoxels: {humanize.intcomma(class_imb[label_idx])})\" \n",
    "        if with_nvoxels else \n",
    "        \"\"\n",
    "    )\n",
    "    return lab"
   ]
  },
  {
   "cell_type": "markdown",
   "metadata": {},
   "source": [
    "#### class imbalance"
   ]
  },
  {
   "cell_type": "code",
   "execution_count": null,
   "metadata": {
    "tags": [
     "plot"
    ]
   },
   "outputs": [],
   "source": [
    "nplots = len(partitions_to_compute) + 1\n",
    "\n",
    "fig, axs = plt.subplots(\n",
    "    nrows := int(np.ceil(nplots / 2)), \n",
    "    ncols := 2, \n",
    "    figsize=(ncols * (sz := 5), nrows * sz), \n",
    "    dpi=(dpi := 100),\n",
    ")\n",
    "\n",
    "colors = [\"b\", \"r\", \"g\", \"orange\"][:len(partitions_to_compute) + 1]\n",
    "colors = dict(zip(list(partitions_to_compute) + [None], colors))\n",
    "\n",
    "for ax, (partition_alias, class_imb) in zip(axs.ravel(), class_imbalance.items()):\n",
    "\n",
    "    display = tomo2seg_viz.ClassImbalanceDisplay(\n",
    "        volume_name=f\"{volume_name}\" + (\n",
    "            \"\" if partition_alias is None else f\"  --  partition={partition_alias}\"\n",
    "        ),\n",
    "        labels_idx=labels_idx,\n",
    "        labels_names=labels_names,\n",
    "        labels_counts=class_imb,\n",
    "    ).plot(\n",
    "        ax=ax,\n",
    "        barh_kwargs=dict(\n",
    "            color=colors[partition_alias],\n",
    "            height=.6,\n",
    "        ),\n",
    "        count_fmt_func=lambda c: f\"{humanize.intword(c)}\",\n",
    "        perc_fmt_func=lambda p: f\"{p:.1%}\",\n",
    "    )\n",
    "\n",
    "fig.savefig(fname=outputs.class_imbalance_plot, format=\"png\")"
   ]
  },
  {
   "cell_type": "markdown",
   "metadata": {},
   "source": [
    "#### value histogram"
   ]
  },
  {
   "cell_type": "code",
   "execution_count": null,
   "metadata": {
    "tags": [
     "plot"
    ]
   },
   "outputs": [],
   "source": [
    "for partition_alias, hist_ in hists_norm.items():\n",
    "\n",
    "    fig, ax = plt.subplots(1, 1, figsize=(2 * (sz := 4), sz), dpi=(dpi := 70))\n",
    "\n",
    "    # i want to get the vertical borders to show up\n",
    "    display = tomo2seg_viz.VoxelValueHistogramDisplay(\n",
    "        volume_name=f\"{volume_name}\" + (\n",
    "            \"\" if partition_alias is None else f\"  --  partition={partition_alias}\"\n",
    "        ),\n",
    "        bins=hist_bins.tolist(),\n",
    "        values=hist_.tolist(),\n",
    "    ).plot(ax)\n",
    "\n",
    "    fig.savefig(\n",
    "        fname=outputs.histogram_plot(partition_alias),\n",
    "        format=\"png\",\n",
    "    )"
   ]
  },
  {
   "cell_type": "markdown",
   "metadata": {},
   "source": [
    "#### value histogram per label"
   ]
  },
  {
   "cell_type": "code",
   "execution_count": null,
   "metadata": {
    "tags": [
     "manual-input",
     "plot"
    ]
   },
   "outputs": [],
   "source": [
    "for partition_alias in hists_per_label_norm.keys():\n",
    "    \n",
    "    hist_per_label_normed_global_ = hists_per_label_global_norm[partition_alias]\n",
    "    hist_per_label_normed_ = hists_per_label_norm[partition_alias]\n",
    "    \n",
    "    fig, axs = plt.subplots(\n",
    "        nrows := 2, ncols := 1, figsize=(ncols * 1.75 * (sz := 6), nrows * sz), dpi=(dpi := 70),\n",
    "        gridspec_kw=dict(hspace=sz / 15)\n",
    "    )\n",
    "\n",
    "    display = tomo2seg_viz.VoxelValueHistogramPerClassDisplay(\n",
    "        \n",
    "        volume_name=f\"{volume_name}\" + (\n",
    "            \"\" if partition_alias is None else f\"  --  partition={partition_alias}\"\n",
    "        ),\n",
    "\n",
    "        bins=hist_bins.tolist(),\n",
    "        \n",
    "        values_per_label=hist_per_label_normed_.tolist(),\n",
    "        values_per_label_global_proportion=hist_per_label_normed_global_.tolist(),\n",
    "        \n",
    "        labels_idx=labels_idx,\n",
    "        line_labels={\n",
    "            idx: get_line_label(idx, with_nvoxels=True) \n",
    "            for idx in labels_idx\n",
    "        },\n",
    "        \n",
    "    ).plot(axs)\n",
    "    \n",
    "    # [manual-input]\n",
    "    axs[0].set_ylim(top=.20)\n",
    "\n",
    "    fig.savefig(\n",
    "        fname=outputs.histogram_per_label_plot(partition_alias),\n",
    "        format=\"png\",\n",
    "    )"
   ]
  },
  {
   "cell_type": "markdown",
   "metadata": {},
   "source": [
    "## adjacent layers correlation"
   ]
  },
  {
   "cell_type": "markdown",
   "metadata": {},
   "source": [
    "### [compute] adjacent layers correlation"
   ]
  },
  {
   "cell_type": "code",
   "execution_count": null,
   "metadata": {},
   "outputs": [],
   "source": [
    "@dataclass\n",
    "class AdjacentLayerCorrelation:\n",
    "    axis: int\n",
    "    nlayers: int\n",
    "    label: Optional[int]\n",
    "    \n",
    "    values: List[int] = field(repr=False)\n",
    "        \n",
    "correlations = [\n",
    "    AdjacentLayerCorrelation(\n",
    "        axis = axis,\n",
    "        nlayers = nlayers,\n",
    "        label = label,\n",
    "        values = analyse_gt.adjacent_layers_correlation(\n",
    "            labels_volume,\n",
    "            axis,\n",
    "            nlayers,\n",
    "            partial(\n",
    "                analyse_gt.jaccard,\n",
    "                label=label,\n",
    "            )\n",
    "        )\n",
    "    )\n",
    "    for axis, nlayers, label in pbar(list(itertools.product(\n",
    "        list(range(3)),\n",
    "        adjacent_layers_correlation_nlayer_arg_vals,\n",
    "        [None] + list(labels_idx),\n",
    "    )))\n",
    "]"
   ]
  },
  {
   "cell_type": "markdown",
   "metadata": {},
   "source": [
    "### [save] adjacent layers correlation"
   ]
  },
  {
   "cell_type": "code",
   "execution_count": null,
   "metadata": {},
   "outputs": [],
   "source": [
    "logger.info(\"Saving adjacent layers correlation series.\")\n",
    "\n",
    "for corr in pbar(correlations):\n",
    "    \n",
    "    filepath = outputs.layers_correlation(\n",
    "        axis=corr.axis,\n",
    "        nlayers=corr.nlayers,\n",
    "        label=corr.label,\n",
    "    )\n",
    "    \n",
    "    np.save(filepath, corr.values)"
   ]
  },
  {
   "cell_type": "markdown",
   "metadata": {},
   "source": [
    "### [plot] adjacent layers correlation"
   ]
  },
  {
   "cell_type": "raw",
   "metadata": {},
   "source": [
    "# todo make this a display"
   ]
  },
  {
   "cell_type": "code",
   "execution_count": null,
   "metadata": {},
   "outputs": [],
   "source": [
    "fig, axs = plt.subplots(\n",
    "    nrows := n_classes + 1,\n",
    "    ncols := 3,\n",
    "    figsize = (\n",
    "        ncols * (sz := 8),\n",
    "        nrows * sz,\n",
    "    ),\n",
    "    dpi = 200,\n",
    ")\n",
    "\n",
    "\n",
    "def corr2ax(corr: AdjacentLayerCorrelation):\n",
    "    return axs[\n",
    "        corr.label if corr.label is not None else -1, \n",
    "        corr.axis\n",
    "    ]\n",
    "\n",
    "\n",
    "for corr in correlations:\n",
    "    ax = corr2ax(corr)\n",
    "    ax.plot(\n",
    "        corr.values,\n",
    "        label=f\"nlayers={corr.nlayers}\",\n",
    "        linewidth=.5,\n",
    "        linestyle=':',\n",
    "    )\n",
    "    \n",
    "for ax in axs.ravel():\n",
    "    ax.set_ylim(0, 1)\n",
    "    \n",
    "for axis in range(3):\n",
    "    for label in list(range(n_classes)) + [None]:\n",
    "        axs[label if label is not None else -1, axis].set_title(\n",
    "            f\"{axis=} label={label if label is not None else 'all'}\"\n",
    "        )\n",
    "        \n",
    "fig.suptitle(f\"{volume_name} adjacent layer correlation\")\n",
    "        \n",
    "fig.savefig(fname=outputs.layers_correlation_plot, format=\"png\")\n",
    "plt.close();"
   ]
  },
  {
   "cell_type": "markdown",
   "metadata": {},
   "source": [
    "## class imbalance per layer"
   ]
  },
  {
   "cell_type": "markdown",
   "metadata": {},
   "source": [
    "### [compute] class imbalance per layer"
   ]
  },
  {
   "cell_type": "code",
   "execution_count": null,
   "metadata": {},
   "outputs": [],
   "source": [
    "logger.info(\"Computing class imbalance per layer series.\")\n",
    "\n",
    "@dataclass\n",
    "class LayerwiseLabelCount:\n",
    "    \"\"\"only intended for this notebook\"\"\"\n",
    "    \n",
    "    axis: int\n",
    "    values: ndarray = field(repr=False)  # nb of voxels per class per layer\n",
    "        \n",
    "    def __post_init__(self):\n",
    "        \n",
    "        assert self.values.shape == (labels_volume.shape[self.axis], n_classes),  f\"{self.values.shape=} {self.axis=} {labels_volume.shape=} {n_classes=}\"\n",
    "        assert self.values.dtype == np.int64, f\"{self.values.dtype=}\"\n",
    "        \n",
    "        nvoxels_per_layer = list(labels_volume.shape)\n",
    "        nvoxels_per_layer.pop(self.axis)\n",
    "        nvoxels_per_layer = functools.reduce(\n",
    "            operator.mul,\n",
    "            nvoxels_per_layer,\n",
    "        )\n",
    "        \n",
    "        for rowidx, row in enumerate(self.values):\n",
    "            assert row.sum() == nvoxels_per_layer, f\"{rowidx=} {row=} {nvoxels_per_layer}\"\n",
    "\n",
    "            \n",
    "layerwise_label_count = {\n",
    "    axis: LayerwiseLabelCount(\n",
    "        axis = axis,\n",
    "        values = analyse_gt.class_counts_per_layer(\n",
    "            labels_volume,\n",
    "            axis,\n",
    "            n_classes,\n",
    "        )\n",
    "    )\n",
    "    for axis in range(3)\n",
    "}"
   ]
  },
  {
   "cell_type": "markdown",
   "metadata": {},
   "source": [
    "### [save] class imbalance per layer"
   ]
  },
  {
   "cell_type": "code",
   "execution_count": null,
   "metadata": {},
   "outputs": [],
   "source": [
    "logger.info(\"Saving class imbalance per layer series.\")\n",
    "\n",
    "for lab_count in pbar(layerwise_label_count.values()):\n",
    "    \n",
    "    filepath = outputs.layerwise_class_count(\n",
    "        axis=lab_count.axis,\n",
    "    )\n",
    "    \n",
    "    np.save(filepath, lab_count.values)"
   ]
  },
  {
   "cell_type": "markdown",
   "metadata": {},
   "source": [
    "### [plot] class imbalance per layer"
   ]
  },
  {
   "cell_type": "code",
   "execution_count": null,
   "metadata": {},
   "outputs": [],
   "source": [
    "fig, axs = plt.subplots(\n",
    "    nrows := 3,\n",
    "    ncols := 2,\n",
    "    figsize = (\n",
    "        ncols * (sz := 8),\n",
    "        nrows * sz,\n",
    "    ),\n",
    "    dpi = 200,\n",
    ")\n",
    "\n",
    "\n",
    "def lab_count2axs(lab_count: LayerwiseLabelCount):\n",
    "    return axs[lab_count.axis, 0], axs[lab_count.axis, 1]\n",
    "\n",
    "\n",
    "for lab_count in layerwise_label_count.values():\n",
    "    \n",
    "    ax_count, ax_proportion = lab_count2axs(lab_count)\n",
    "    \n",
    "    proportions = lab_count.values / lab_count.values.sum(axis=1, keepdims=True)\n",
    "    \n",
    "    ax_count.plot(lab_count.values)\n",
    "    ax_proportion.plot(proportions)\n",
    "    \n",
    "    ax_count.legend(labels_names)\n",
    "    ax_proportion.legend(labels_names)\n",
    "    \n",
    "    ax_proportion.set_ylim(0, 1)\n",
    "    \n",
    "    ax_count.set_title(f\"counts axis={lab_count.axis}\")\n",
    "    ax_proportion.set_title(f\"proportions axis={lab_count.axis}\")\n",
    "\n",
    "fig.suptitle(f\"{volume_name}: class imbalance per layer\")\n",
    "\n",
    "fig.savefig(fname=outputs.layerwise_class_count_plot, format=\"png\")\n",
    "plt.close();"
   ]
  },
  {
   "cell_type": "markdown",
   "metadata": {},
   "source": [
    "# Physical metrics"
   ]
  },
  {
   "cell_type": "code",
   "execution_count": null,
   "metadata": {},
   "outputs": [],
   "source": [
    "# - voxel size\n",
    "# - volume size\n",
    "# - fiber length\n",
    "# - fiber diameter\n",
    "# - porosity diameter"
   ]
  }
 ],
 "metadata": {
  "kernelspec": {
   "display_name": "Python 3",
   "language": "python",
   "name": "python3"
  },
  "language_info": {
   "codemirror_mode": {
    "name": "ipython",
    "version": 3
   },
   "file_extension": ".py",
   "mimetype": "text/x-python",
   "name": "python",
   "nbconvert_exporter": "python",
   "pygments_lexer": "ipython3",
   "version": "3.8.2"
  }
 },
 "nbformat": 4,
 "nbformat_minor": 4
}
