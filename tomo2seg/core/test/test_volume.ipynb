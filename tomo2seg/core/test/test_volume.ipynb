{
 "cells": [
  {
   "cell_type": "code",
   "execution_count": 1,
   "outputs": [],
   "source": [
    "from enum import Enum\n",
    "%load_ext autoreload\n",
    "%autoreload 2\n",
    "\n",
    "import nose\n",
    "import logging\n",
    "from pathlib import Path\n",
    "import numpy as np\n",
    "\n",
    "from tomo2seg import core\n",
    "from tomo2seg.logger import config_logger"
   ],
   "metadata": {
    "collapsed": false,
    "pycharm": {
     "name": "#%%\n"
    }
   }
  },
  {
   "cell_type": "code",
   "execution_count": 2,
   "outputs": [],
   "source": [
    "logger = config_logger(logging.getLogger(\"test_volume\"))\n",
    "logger.setLevel('DEBUG')"
   ],
   "metadata": {
    "collapsed": false,
    "pycharm": {
     "name": "#%%\n"
    }
   }
  },
  {
   "cell_type": "code",
   "execution_count": 3,
   "outputs": [
    {
     "name": "stdout",
     "output_type": "stream",
     "text": [
      "shape:\r\n",
      "  - 256\r\n",
      "  - 256\r\n",
      "  - 256\r\n",
      "dtype: \"uint8\"\r\n",
      "byte_encoding: \"littleendian\"\r\n"
     ]
    }
   ],
   "source": [
    "!cat ./pa66.v1.reduced/pa66.v1.reduced.yml"
   ],
   "metadata": {
    "collapsed": false,
    "pycharm": {
     "name": "#%%\n"
    }
   }
  },
  {
   "cell_type": "code",
   "execution_count": 4,
   "outputs": [
    {
     "name": "stdout",
     "output_type": "stream",
     "text": [
      "DEBUG::test_volume::{<ipython-input-4-921cc6bbd51e>:test_volume_correct_inits:026}::[2021-03-29::20:29:23.833]\n",
      "method.__name__='create_volume_0'\n",
      "\n",
      "DEBUG::test_volume::{<ipython-input-4-921cc6bbd51e>:test_volume_correct_inits:026}::[2021-03-29::20:29:23.860]\n",
      "method.__name__='create_volume_1'\n",
      "\n"
     ]
    }
   ],
   "source": [
    "# todo figure out how to add this to the repo\n",
    "vol0 = \"pa66.v1.reduced.yml\"\n",
    "RELATIVE_PATH_TO_DIR = \"./pa66.v1.reduced/\"\n",
    "\n",
    "# todo download in the setup\n",
    "\n",
    "def create_volume_0(filename=vol0) -> core.Volume:\n",
    "    filepath = f\"{RELATIVE_PATH_TO_DIR}/{filename}\"\n",
    "    return core.Volume(file=filepath)\n",
    "\n",
    "\n",
    "def create_volume_1(filename=vol0) -> core.Volume:\n",
    "    filepath = f\"{RELATIVE_PATH_TO_DIR}/{filename}\"\n",
    "    return core.Volume(file=Path(filepath))\n",
    "\n",
    "\n",
    "def test_volume_correct_inits():\n",
    "\n",
    "    methods = [\n",
    "        create_volume_0,\n",
    "        create_volume_1,\n",
    "    ]\n",
    "\n",
    "    for method in methods:\n",
    "\n",
    "        logger.debug(f\"{method.__name__=}\")\n",
    "        volume = method()\n",
    "\n",
    "        nose.tools.trivial.assert_is_not_none(volume)\n",
    "        nose.tools.trivial.assert_is_instance(volume, core.Volume)\n",
    "\n",
    "        nose.tools.trivial.assert_is_instance(volume.name, str)\n",
    "        nose.tools.trivial.assert_not_equal(volume.name, \"\")\n",
    "\n",
    "        nose.tools.trivial.assert_is_instance(volume.dtype, str)\n",
    "        nose.tools.trivial.assert_not_equal(volume.dtype, \"\")\n",
    "\n",
    "        nose.tools.trivial.assert_is_instance(volume.shape, tuple)\n",
    "        nose.tools.trivial.assert_equal(len(volume.shape), 3)\n",
    "\n",
    "        for val in volume.shape:\n",
    "            nose.tools.trivial.assert_is_instance(val, int)\n",
    "\n",
    "        for val in volume.shape:\n",
    "            nose.tools.trivial.assert_greater(val, 0)\n",
    "\n",
    "        nose.tools.trivial.assert_is_instance(volume.dir, Path)\n",
    "        nose.tools.trivial.assert_is_instance(volume.raw, Path)\n",
    "\n",
    "\n",
    "test_volume_correct_inits()\n"
   ],
   "metadata": {
    "collapsed": false,
    "pycharm": {
     "name": "#%%\n"
    }
   }
  },
  {
   "cell_type": "code",
   "execution_count": 5,
   "outputs": [
    {
     "data": {
      "text/plain": "iinfo(min=0, max=255, dtype=uint8)"
     },
     "execution_count": 5,
     "metadata": {},
     "output_type": "execute_result"
    }
   ],
   "source": [
    "t = np.dtype(\"uint8\")\n",
    "np.iinfo(t)\n"
   ],
   "metadata": {
    "collapsed": false,
    "pycharm": {
     "name": "#%%\n"
    }
   }
  },
  {
   "cell_type": "code",
   "execution_count": 6,
   "outputs": [],
   "source": [
    "def test_errors():\n",
    "\n",
    "    nose.tools.assert_raises(core.VolumeError, create_volume_0, f\"this-one-does-not-exist.yml\")\n",
    "    nose.tools.assert_raises(core.VolumeError, create_volume_0, f\"badext.json\")\n",
    "    nose.tools.assert_raises(core.VolumeError, create_volume_0, f\"missing_dtype.yml\")\n",
    "    nose.tools.assert_raises(core.VolumeError, create_volume_0, f\"missing_shape.yml\")\n",
    "    nose.tools.assert_raises(core.VolumeError, create_volume_0, f\"bad_format_00.yml\")\n",
    "    nose.tools.assert_raises(core.VolumeError, create_volume_0, f\"bad_format_01.yml\")\n",
    "    nose.tools.assert_raises(core.VolumeError, create_volume_0, f\"bad_format_02.yml\")\n",
    "    nose.tools.assert_raises(core.VolumeError, create_volume_0, f\"bad_format_03.yml\")\n",
    "    nose.tools.assert_raises(core.VolumeError, create_volume_0, f\"bad_format_04.yml\")\n",
    "    nose.tools.assert_raises(core.VolumeError, create_volume_0, f\"bad_format_05.yml\")\n",
    "    nose.tools.assert_raises(core.VolumeError, create_volume_0, f\"bad_format_06.yml\")\n",
    "    nose.tools.assert_raises(core.VolumeError, create_volume_0, f\"raw_doesnt_exist.yml\")\n",
    "    nose.tools.assert_raises(core.VolumeError, create_volume_0, f\"tiny.raw_wrong_size.yml\")\n",
    "    nose.tools.assert_raises(core.VolumeError, create_volume_0, f\"tiny.raw_wrong_dtype.yml\")\n",
    "    nose.tools.assert_raises(core.VolumeError, create_volume_0, f\"missing_byte_encoding.yml\")\n",
    "    nose.tools.assert_raises(core.VolumeError, create_volume_0, f\"mistyped_byte_encoding.yml\")\n",
    "\n",
    "test_errors()"
   ],
   "metadata": {
    "collapsed": false,
    "pycharm": {
     "name": "#%%\n"
    }
   }
  },
  {
   "cell_type": "code",
   "execution_count": 7,
   "outputs": [],
   "source": [
    "# create_volume_0(f\"missing_dtype.yml\")\n",
    "# create_volume_0(f\"missing_shape.yml\")\n",
    "# create_volume_0(f\"bad_format_00.yml\")\n",
    "# create_volume_0(f\"bad_format_01.yml\")\n",
    "# create_volume_0(f\"bad_format_02.yml\")\n",
    "# create_volume_0(f\"bad_format_03.yml\")\n",
    "# create_volume_0(f\"bad_format_04.yml\")\n",
    "# create_volume_0(f\"bad_format_05.yml\")\n",
    "# create_volume_0(f\"bad_format_06.yml\")\n",
    "# create_volume_0(f\"raw_doesnt_exist.yml\")\n",
    "# create_volume_0(f\"tiny.raw_wrong_size.yml\")\n",
    "# create_volume_0(f\"tiny.raw_wrong_dtype.yml\")\n",
    "# create_volume_0(f\"missing_byte_encoding.yml\")\n",
    "# create_volume_0(f\"mistyped_byte_encoding.yml\")\n"
   ],
   "metadata": {
    "collapsed": false,
    "pycharm": {
     "name": "#%%\n"
    }
   }
  },
  {
   "cell_type": "code",
   "execution_count": 12,
   "outputs": [
    {
     "name": "stdout",
     "output_type": "stream",
     "text": [
      "DEBUG::test_volume::{<ipython-input-12-aec93c8eac0c>:<module>:002}::[2021-03-29::20:36:01.991]\n",
      "v1=Volume(name='pa66.v1.reduced', shape=(256, 256, 256), dtype='uint8')\n",
      "\n"
     ]
    },
    {
     "data": {
      "text/plain": "Volume(name='pa66.v1.reduced', shape=(256, 256, 256), dtype='uint8')"
     },
     "execution_count": 12,
     "metadata": {},
     "output_type": "execute_result"
    }
   ],
   "source": [
    "v1 = create_volume_0()\n",
    "logger.debug(f\"{v1=}\")\n",
    "\n",
    "v1"
   ],
   "metadata": {
    "collapsed": false,
    "pycharm": {
     "name": "#%%\n"
    }
   }
  },
  {
   "cell_type": "code",
   "execution_count": 18,
   "outputs": [],
   "source": [
    "def test_slices():\n",
    "    \n",
    "    volume = create_volume_0()\n",
    "    \n",
    "    slices = [\n",
    "        volume.xy(0),\n",
    "        volume.xz(0),\n",
    "        volume.yz(0),\n",
    "        volume.xslice(0),\n",
    "        volume.yslice(0),\n",
    "        volume.zslice(0),\n",
    "    ]\n",
    "    \n",
    "    for slc in slices:\n",
    "        nose.tools.assert_equal(slc.ndim, 2)\n",
    "\n",
    "test_slices()"
   ],
   "metadata": {
    "collapsed": false,
    "pycharm": {
     "name": "#%%\n"
    }
   }
  },
  {
   "cell_type": "code",
   "execution_count": 10,
   "outputs": [
    {
     "name": "stdout",
     "output_type": "stream",
     "text": [
      "DEBUG::test_volume::{<ipython-input-10-5c794f9720dc>:<module>:001}::[2021-03-29::20:29:24.028]\n",
      "v1.file=PosixPath('/home/joaopcbertoldo/projects/tomo2seg/tomo2seg/core/test/pa66.v1.reduced/pa66.v1.reduced.yml')\n",
      "\n",
      "DEBUG::test_volume::{<ipython-input-10-5c794f9720dc>:<module>:002}::[2021-03-29::20:29:24.029]\n",
      "v1.name='pa66.v1.reduced'\n",
      "\n",
      "DEBUG::test_volume::{<ipython-input-10-5c794f9720dc>:<module>:003}::[2021-03-29::20:29:24.030]\n",
      "v1.dtype='uint8'\n",
      "\n",
      "DEBUG::test_volume::{<ipython-input-10-5c794f9720dc>:<module>:004}::[2021-03-29::20:29:24.031]\n",
      "v1.shape=(256, 256, 256)\n",
      "\n",
      "DEBUG::test_volume::{<ipython-input-10-5c794f9720dc>:<module>:005}::[2021-03-29::20:29:24.031]\n",
      "v1.dir=PosixPath('/home/joaopcbertoldo/projects/tomo2seg/tomo2seg/core/test/pa66.v1.reduced')\n",
      "\n",
      "DEBUG::test_volume::{<ipython-input-10-5c794f9720dc>:<module>:006}::[2021-03-29::20:29:24.032]\n",
      "v1.raw=PosixPath('/home/joaopcbertoldo/projects/tomo2seg/tomo2seg/core/test/pa66.v1.reduced/pa66.v1.reduced.raw')\n",
      "\n"
     ]
    }
   ],
   "source": [
    "logger.debug(f\"{v1.file=}\")\n",
    "logger.debug(f\"{v1.name=}\")\n",
    "logger.debug(f\"{v1.dtype=}\")\n",
    "logger.debug(f\"{v1.shape=}\")\n",
    "logger.debug(f\"{v1.dir=}\")\n",
    "logger.debug(f\"{v1.raw=}\")"
   ],
   "metadata": {
    "collapsed": false,
    "pycharm": {
     "name": "#%%\n"
    }
   }
  },
  {
   "cell_type": "code",
   "execution_count": 11,
   "outputs": [],
   "source": [
    "from tomo2seg import viz\n"
   ],
   "metadata": {
    "collapsed": false,
    "pycharm": {
     "name": "#%%\n"
    }
   }
  },
  {
   "cell_type": "code",
   "execution_count": 28,
   "outputs": [
    {
     "ename": "ValueError",
     "evalue": "Invalid integer data type 'f'.",
     "output_type": "error",
     "traceback": [
      "\u001B[0;31m---------------------------------------------------------------------------\u001B[0m",
      "\u001B[0;31mValueError\u001B[0m                                Traceback (most recent call last)",
      "\u001B[0;32m<ipython-input-28-810fe387104c>\u001B[0m in \u001B[0;36m<module>\u001B[0;34m\u001B[0m\n\u001B[0;32m----> 1\u001B[0;31m \u001B[0mnp\u001B[0m\u001B[0;34m.\u001B[0m\u001B[0miinfo\u001B[0m\u001B[0;34m(\u001B[0m\u001B[0mnp\u001B[0m\u001B[0;34m.\u001B[0m\u001B[0mdtype\u001B[0m\u001B[0;34m(\u001B[0m\u001B[0;34m\"float32\"\u001B[0m\u001B[0;34m)\u001B[0m\u001B[0;34m)\u001B[0m\u001B[0;34m.\u001B[0m\u001B[0mmax\u001B[0m\u001B[0;34m\u001B[0m\u001B[0;34m\u001B[0m\u001B[0m\n\u001B[0m",
      "\u001B[0;32m~/anaconda3/envs/tomo2seg-dev/lib/python3.9/site-packages/numpy/core/getlimits.py\u001B[0m in \u001B[0;36m__init__\u001B[0;34m(self, int_type)\u001B[0m\n\u001B[1;32m    521\u001B[0m         \u001B[0mself\u001B[0m\u001B[0;34m.\u001B[0m\u001B[0mkey\u001B[0m \u001B[0;34m=\u001B[0m \u001B[0;34m\"%s%d\"\u001B[0m \u001B[0;34m%\u001B[0m \u001B[0;34m(\u001B[0m\u001B[0mself\u001B[0m\u001B[0;34m.\u001B[0m\u001B[0mkind\u001B[0m\u001B[0;34m,\u001B[0m \u001B[0mself\u001B[0m\u001B[0;34m.\u001B[0m\u001B[0mbits\u001B[0m\u001B[0;34m)\u001B[0m\u001B[0;34m\u001B[0m\u001B[0;34m\u001B[0m\u001B[0m\n\u001B[1;32m    522\u001B[0m         \u001B[0;32mif\u001B[0m \u001B[0mself\u001B[0m\u001B[0;34m.\u001B[0m\u001B[0mkind\u001B[0m \u001B[0;32mnot\u001B[0m \u001B[0;32min\u001B[0m \u001B[0;34m'iu'\u001B[0m\u001B[0;34m:\u001B[0m\u001B[0;34m\u001B[0m\u001B[0;34m\u001B[0m\u001B[0m\n\u001B[0;32m--> 523\u001B[0;31m             \u001B[0;32mraise\u001B[0m \u001B[0mValueError\u001B[0m\u001B[0;34m(\u001B[0m\u001B[0;34m\"Invalid integer data type %r.\"\u001B[0m \u001B[0;34m%\u001B[0m \u001B[0;34m(\u001B[0m\u001B[0mself\u001B[0m\u001B[0;34m.\u001B[0m\u001B[0mkind\u001B[0m\u001B[0;34m,\u001B[0m\u001B[0;34m)\u001B[0m\u001B[0;34m)\u001B[0m\u001B[0;34m\u001B[0m\u001B[0;34m\u001B[0m\u001B[0m\n\u001B[0m\u001B[1;32m    524\u001B[0m \u001B[0;34m\u001B[0m\u001B[0m\n\u001B[1;32m    525\u001B[0m     \u001B[0;34m@\u001B[0m\u001B[0mproperty\u001B[0m\u001B[0;34m\u001B[0m\u001B[0;34m\u001B[0m\u001B[0m\n",
      "\u001B[0;31mValueError\u001B[0m: Invalid integer data type 'f'."
     ]
    }
   ],
   "source": [
    "np.iinfo(np.dtype(\"float32\")).max"
   ],
   "metadata": {
    "collapsed": false,
    "pycharm": {
     "name": "#%%\n"
    }
   }
  },
  {
   "cell_type": "code",
   "execution_count": null,
   "outputs": [],
   "source": [
    "np.dtype(\"uint8\")"
   ],
   "metadata": {
    "collapsed": false,
    "pycharm": {
     "name": "#%%\n"
    }
   }
  },
  {
   "cell_type": "code",
   "execution_count": 30,
   "outputs": [],
   "source": [
    "?np.integer"
   ],
   "metadata": {
    "collapsed": false,
    "pycharm": {
     "name": "#%%\n"
    }
   }
  }
 ],
 "metadata": {
  "kernelspec": {
   "name": "tomo2seg-dev",
   "language": "python",
   "display_name": "tomo2seg-dev"
  },
  "language_info": {
   "codemirror_mode": {
    "name": "ipython",
    "version": 2
   },
   "file_extension": ".py",
   "mimetype": "text/x-python",
   "name": "python",
   "nbconvert_exporter": "python",
   "pygments_lexer": "ipython2",
   "version": "2.7.6"
  }
 },
 "nbformat": 4,
 "nbformat_minor": 0
}